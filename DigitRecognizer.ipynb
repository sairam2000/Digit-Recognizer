{
  "nbformat": 4,
  "nbformat_minor": 0,
  "metadata": {
    "colab": {
      "name": "DigitRecognizer.ipynb",
      "provenance": [],
      "mount_file_id": "1Yg7oaZJ2-Uyh-M-9EZSUaR5Ol9v20HPS",
      "authorship_tag": "ABX9TyO8xgIOBQVd1zUzU5wVNcWh",
      "include_colab_link": true
    },
    "kernelspec": {
      "name": "python3",
      "display_name": "Python 3"
    },
    "accelerator": "GPU"
  },
  "cells": [
    {
      "cell_type": "markdown",
      "metadata": {
        "id": "view-in-github",
        "colab_type": "text"
      },
      "source": [
        "<a href=\"https://colab.research.google.com/github/sairam2000/Digit-Recognizer/blob/master/DigitRecognizer.ipynb\" target=\"_parent\"><img src=\"https://colab.research.google.com/assets/colab-badge.svg\" alt=\"Open In Colab\"/></a>"
      ]
    },
    {
      "cell_type": "markdown",
      "metadata": {
        "id": "0ctMEhqxsyW6",
        "colab_type": "text"
      },
      "source": [
        "\n",
        "\n",
        "# Loading Data"
      ]
    },
    {
      "cell_type": "code",
      "metadata": {
        "id": "7_H0zLTy0z5b",
        "colab_type": "code",
        "colab": {}
      },
      "source": [
        "!cp /content/drive/My\\ Drive/DigitRecognizer -r /tmp/"
      ],
      "execution_count": 0,
      "outputs": []
    },
    {
      "cell_type": "code",
      "metadata": {
        "id": "0Drbx5Cc15b8",
        "colab_type": "code",
        "colab": {}
      },
      "source": [
        "import zipfile"
      ],
      "execution_count": 0,
      "outputs": []
    },
    {
      "cell_type": "code",
      "metadata": {
        "id": "uiyWBqPG3aM8",
        "colab_type": "code",
        "colab": {}
      },
      "source": [
        "trainfile = '/tmp/DigitRecognizer/train.csv.zip'\n",
        "zipref = zipfile.ZipFile(trainfile,mode='r')\n",
        "zipref.extractall('/tmp/data')\n",
        "zipref.close()"
      ],
      "execution_count": 0,
      "outputs": []
    },
    {
      "cell_type": "code",
      "metadata": {
        "id": "71yDvSS65r4J",
        "colab_type": "code",
        "colab": {}
      },
      "source": [
        "testfile = '/tmp/DigitRecognizer/test.csv.zip'\n",
        "zipref = zipfile.ZipFile(testfile,mode='r')\n",
        "zipref.extractall('/tmp/data')\n",
        "zipref.close()"
      ],
      "execution_count": 0,
      "outputs": []
    },
    {
      "cell_type": "code",
      "metadata": {
        "id": "HbnzvqCr52r8",
        "colab_type": "code",
        "colab": {}
      },
      "source": [
        "! cp /tmp/DigitRecognizer/sample_submission.csv -r /tmp/data/"
      ],
      "execution_count": 0,
      "outputs": []
    },
    {
      "cell_type": "markdown",
      "metadata": {
        "id": "xN_xS_G56Otc",
        "colab_type": "text"
      },
      "source": [
        "# Data Description\n",
        "* The data files train.csv and test.csv contain gray-scale images of hand-drawn digits, from zero through nine.\n",
        "\n",
        "* Each image is 28 pixels in height and 28 pixels in width, for a total of 784 pixels in total. Each pixel has a single pixel-value associated with it, indicating the lightness or darkness of that pixel, with higher numbers meaning darker. This pixel-value is an integer between 0 and 255, inclusive.\n",
        "\n",
        "* The training data set, (train.csv), has 785 columns. The first column, called \"label\", is the digit that was drawn by the user. The rest of the columns contain the pixel-values of the associated image.\n",
        "\n",
        "* Each pixel column in the training set has a name like pixelx, where x is an integer between 0 and 783, inclusive. To locate this pixel on the image, suppose that we have decomposed x as x = i * 28 + j, where i and j are integers between 0 and 27, inclusive. Then pixelx is located on row i and column j of a 28 x 28 matrix, (indexing by zero)."
      ]
    },
    {
      "cell_type": "markdown",
      "metadata": {
        "id": "pzF4oyXh64xR",
        "colab_type": "text"
      },
      "source": [
        "# Evaluation\n",
        "## Goal\n",
        "* The goal in this competition is to take an image of a handwritten single digit, and determine what that digit is.\n",
        "* For every in the test set, you should predict the correct label.\n",
        "\n",
        "## Metric\n",
        "* This competition is evaluated on the categorization accuracy of your predictions (the percentage of images you get correct).\n",
        "\n",
        "## Submission File Format\n",
        "* The file should contain a header and have the following format:\n",
        "\n",
        " ImageId,Label\n",
        "\n",
        "  1,0\n",
        "\n",
        "  2,0\n",
        "\n",
        "  3,0\n",
        "\n",
        "  etc."
      ]
    },
    {
      "cell_type": "code",
      "metadata": {
        "id": "JE_SMOTi7Z9j",
        "colab_type": "code",
        "colab": {}
      },
      "source": [
        "import pandas as pd\n",
        "import numpy as np\n",
        "import matplotlib.pyplot as plt\n",
        "import tensorflow as tf"
      ],
      "execution_count": 0,
      "outputs": []
    },
    {
      "cell_type": "code",
      "metadata": {
        "id": "cMvCgEko9AYT",
        "colab_type": "code",
        "colab": {
          "base_uri": "https://localhost:8080/",
          "height": 34
        },
        "outputId": "f5a81ff0-1d5a-4502-cecd-70e67871907d"
      },
      "source": [
        "print(tf.__version__)"
      ],
      "execution_count": 2,
      "outputs": [
        {
          "output_type": "stream",
          "text": [
            "2.2.0\n"
          ],
          "name": "stdout"
        }
      ]
    },
    {
      "cell_type": "markdown",
      "metadata": {
        "id": "UulC5W1g9EIM",
        "colab_type": "text"
      },
      "source": [
        "# Data preparation"
      ]
    },
    {
      "cell_type": "markdown",
      "metadata": {
        "id": "5b4y-ISl9QoF",
        "colab_type": "text"
      },
      "source": [
        "### Load Data"
      ]
    },
    {
      "cell_type": "code",
      "metadata": {
        "id": "st3moEia9U7-",
        "colab_type": "code",
        "colab": {}
      },
      "source": [
        "train = pd.read_csv('/tmp/data/train.csv')\n",
        "test = pd.read_csv('/tmp/data/test.csv')"
      ],
      "execution_count": 0,
      "outputs": []
    },
    {
      "cell_type": "code",
      "metadata": {
        "id": "x62krJM29uke",
        "colab_type": "code",
        "colab": {
          "base_uri": "https://localhost:8080/",
          "height": 244
        },
        "outputId": "92cfd195-cff7-453f-fae0-f6e5e1023393"
      },
      "source": [
        "train.head()"
      ],
      "execution_count": 11,
      "outputs": [
        {
          "output_type": "execute_result",
          "data": {
            "text/html": [
              "<div>\n",
              "<style scoped>\n",
              "    .dataframe tbody tr th:only-of-type {\n",
              "        vertical-align: middle;\n",
              "    }\n",
              "\n",
              "    .dataframe tbody tr th {\n",
              "        vertical-align: top;\n",
              "    }\n",
              "\n",
              "    .dataframe thead th {\n",
              "        text-align: right;\n",
              "    }\n",
              "</style>\n",
              "<table border=\"1\" class=\"dataframe\">\n",
              "  <thead>\n",
              "    <tr style=\"text-align: right;\">\n",
              "      <th></th>\n",
              "      <th>label</th>\n",
              "      <th>pixel0</th>\n",
              "      <th>pixel1</th>\n",
              "      <th>pixel2</th>\n",
              "      <th>pixel3</th>\n",
              "      <th>pixel4</th>\n",
              "      <th>pixel5</th>\n",
              "      <th>pixel6</th>\n",
              "      <th>pixel7</th>\n",
              "      <th>pixel8</th>\n",
              "      <th>pixel9</th>\n",
              "      <th>pixel10</th>\n",
              "      <th>pixel11</th>\n",
              "      <th>pixel12</th>\n",
              "      <th>pixel13</th>\n",
              "      <th>pixel14</th>\n",
              "      <th>pixel15</th>\n",
              "      <th>pixel16</th>\n",
              "      <th>pixel17</th>\n",
              "      <th>pixel18</th>\n",
              "      <th>pixel19</th>\n",
              "      <th>pixel20</th>\n",
              "      <th>pixel21</th>\n",
              "      <th>pixel22</th>\n",
              "      <th>pixel23</th>\n",
              "      <th>pixel24</th>\n",
              "      <th>pixel25</th>\n",
              "      <th>pixel26</th>\n",
              "      <th>pixel27</th>\n",
              "      <th>pixel28</th>\n",
              "      <th>pixel29</th>\n",
              "      <th>pixel30</th>\n",
              "      <th>pixel31</th>\n",
              "      <th>pixel32</th>\n",
              "      <th>pixel33</th>\n",
              "      <th>pixel34</th>\n",
              "      <th>pixel35</th>\n",
              "      <th>pixel36</th>\n",
              "      <th>pixel37</th>\n",
              "      <th>pixel38</th>\n",
              "      <th>...</th>\n",
              "      <th>pixel744</th>\n",
              "      <th>pixel745</th>\n",
              "      <th>pixel746</th>\n",
              "      <th>pixel747</th>\n",
              "      <th>pixel748</th>\n",
              "      <th>pixel749</th>\n",
              "      <th>pixel750</th>\n",
              "      <th>pixel751</th>\n",
              "      <th>pixel752</th>\n",
              "      <th>pixel753</th>\n",
              "      <th>pixel754</th>\n",
              "      <th>pixel755</th>\n",
              "      <th>pixel756</th>\n",
              "      <th>pixel757</th>\n",
              "      <th>pixel758</th>\n",
              "      <th>pixel759</th>\n",
              "      <th>pixel760</th>\n",
              "      <th>pixel761</th>\n",
              "      <th>pixel762</th>\n",
              "      <th>pixel763</th>\n",
              "      <th>pixel764</th>\n",
              "      <th>pixel765</th>\n",
              "      <th>pixel766</th>\n",
              "      <th>pixel767</th>\n",
              "      <th>pixel768</th>\n",
              "      <th>pixel769</th>\n",
              "      <th>pixel770</th>\n",
              "      <th>pixel771</th>\n",
              "      <th>pixel772</th>\n",
              "      <th>pixel773</th>\n",
              "      <th>pixel774</th>\n",
              "      <th>pixel775</th>\n",
              "      <th>pixel776</th>\n",
              "      <th>pixel777</th>\n",
              "      <th>pixel778</th>\n",
              "      <th>pixel779</th>\n",
              "      <th>pixel780</th>\n",
              "      <th>pixel781</th>\n",
              "      <th>pixel782</th>\n",
              "      <th>pixel783</th>\n",
              "    </tr>\n",
              "  </thead>\n",
              "  <tbody>\n",
              "    <tr>\n",
              "      <th>0</th>\n",
              "      <td>1</td>\n",
              "      <td>0</td>\n",
              "      <td>0</td>\n",
              "      <td>0</td>\n",
              "      <td>0</td>\n",
              "      <td>0</td>\n",
              "      <td>0</td>\n",
              "      <td>0</td>\n",
              "      <td>0</td>\n",
              "      <td>0</td>\n",
              "      <td>0</td>\n",
              "      <td>0</td>\n",
              "      <td>0</td>\n",
              "      <td>0</td>\n",
              "      <td>0</td>\n",
              "      <td>0</td>\n",
              "      <td>0</td>\n",
              "      <td>0</td>\n",
              "      <td>0</td>\n",
              "      <td>0</td>\n",
              "      <td>0</td>\n",
              "      <td>0</td>\n",
              "      <td>0</td>\n",
              "      <td>0</td>\n",
              "      <td>0</td>\n",
              "      <td>0</td>\n",
              "      <td>0</td>\n",
              "      <td>0</td>\n",
              "      <td>0</td>\n",
              "      <td>0</td>\n",
              "      <td>0</td>\n",
              "      <td>0</td>\n",
              "      <td>0</td>\n",
              "      <td>0</td>\n",
              "      <td>0</td>\n",
              "      <td>0</td>\n",
              "      <td>0</td>\n",
              "      <td>0</td>\n",
              "      <td>0</td>\n",
              "      <td>0</td>\n",
              "      <td>...</td>\n",
              "      <td>0</td>\n",
              "      <td>0</td>\n",
              "      <td>0</td>\n",
              "      <td>0</td>\n",
              "      <td>0</td>\n",
              "      <td>0</td>\n",
              "      <td>0</td>\n",
              "      <td>0</td>\n",
              "      <td>0</td>\n",
              "      <td>0</td>\n",
              "      <td>0</td>\n",
              "      <td>0</td>\n",
              "      <td>0</td>\n",
              "      <td>0</td>\n",
              "      <td>0</td>\n",
              "      <td>0</td>\n",
              "      <td>0</td>\n",
              "      <td>0</td>\n",
              "      <td>0</td>\n",
              "      <td>0</td>\n",
              "      <td>0</td>\n",
              "      <td>0</td>\n",
              "      <td>0</td>\n",
              "      <td>0</td>\n",
              "      <td>0</td>\n",
              "      <td>0</td>\n",
              "      <td>0</td>\n",
              "      <td>0</td>\n",
              "      <td>0</td>\n",
              "      <td>0</td>\n",
              "      <td>0</td>\n",
              "      <td>0</td>\n",
              "      <td>0</td>\n",
              "      <td>0</td>\n",
              "      <td>0</td>\n",
              "      <td>0</td>\n",
              "      <td>0</td>\n",
              "      <td>0</td>\n",
              "      <td>0</td>\n",
              "      <td>0</td>\n",
              "    </tr>\n",
              "    <tr>\n",
              "      <th>1</th>\n",
              "      <td>0</td>\n",
              "      <td>0</td>\n",
              "      <td>0</td>\n",
              "      <td>0</td>\n",
              "      <td>0</td>\n",
              "      <td>0</td>\n",
              "      <td>0</td>\n",
              "      <td>0</td>\n",
              "      <td>0</td>\n",
              "      <td>0</td>\n",
              "      <td>0</td>\n",
              "      <td>0</td>\n",
              "      <td>0</td>\n",
              "      <td>0</td>\n",
              "      <td>0</td>\n",
              "      <td>0</td>\n",
              "      <td>0</td>\n",
              "      <td>0</td>\n",
              "      <td>0</td>\n",
              "      <td>0</td>\n",
              "      <td>0</td>\n",
              "      <td>0</td>\n",
              "      <td>0</td>\n",
              "      <td>0</td>\n",
              "      <td>0</td>\n",
              "      <td>0</td>\n",
              "      <td>0</td>\n",
              "      <td>0</td>\n",
              "      <td>0</td>\n",
              "      <td>0</td>\n",
              "      <td>0</td>\n",
              "      <td>0</td>\n",
              "      <td>0</td>\n",
              "      <td>0</td>\n",
              "      <td>0</td>\n",
              "      <td>0</td>\n",
              "      <td>0</td>\n",
              "      <td>0</td>\n",
              "      <td>0</td>\n",
              "      <td>0</td>\n",
              "      <td>...</td>\n",
              "      <td>0</td>\n",
              "      <td>0</td>\n",
              "      <td>0</td>\n",
              "      <td>0</td>\n",
              "      <td>0</td>\n",
              "      <td>0</td>\n",
              "      <td>0</td>\n",
              "      <td>0</td>\n",
              "      <td>0</td>\n",
              "      <td>0</td>\n",
              "      <td>0</td>\n",
              "      <td>0</td>\n",
              "      <td>0</td>\n",
              "      <td>0</td>\n",
              "      <td>0</td>\n",
              "      <td>0</td>\n",
              "      <td>0</td>\n",
              "      <td>0</td>\n",
              "      <td>0</td>\n",
              "      <td>0</td>\n",
              "      <td>0</td>\n",
              "      <td>0</td>\n",
              "      <td>0</td>\n",
              "      <td>0</td>\n",
              "      <td>0</td>\n",
              "      <td>0</td>\n",
              "      <td>0</td>\n",
              "      <td>0</td>\n",
              "      <td>0</td>\n",
              "      <td>0</td>\n",
              "      <td>0</td>\n",
              "      <td>0</td>\n",
              "      <td>0</td>\n",
              "      <td>0</td>\n",
              "      <td>0</td>\n",
              "      <td>0</td>\n",
              "      <td>0</td>\n",
              "      <td>0</td>\n",
              "      <td>0</td>\n",
              "      <td>0</td>\n",
              "    </tr>\n",
              "    <tr>\n",
              "      <th>2</th>\n",
              "      <td>1</td>\n",
              "      <td>0</td>\n",
              "      <td>0</td>\n",
              "      <td>0</td>\n",
              "      <td>0</td>\n",
              "      <td>0</td>\n",
              "      <td>0</td>\n",
              "      <td>0</td>\n",
              "      <td>0</td>\n",
              "      <td>0</td>\n",
              "      <td>0</td>\n",
              "      <td>0</td>\n",
              "      <td>0</td>\n",
              "      <td>0</td>\n",
              "      <td>0</td>\n",
              "      <td>0</td>\n",
              "      <td>0</td>\n",
              "      <td>0</td>\n",
              "      <td>0</td>\n",
              "      <td>0</td>\n",
              "      <td>0</td>\n",
              "      <td>0</td>\n",
              "      <td>0</td>\n",
              "      <td>0</td>\n",
              "      <td>0</td>\n",
              "      <td>0</td>\n",
              "      <td>0</td>\n",
              "      <td>0</td>\n",
              "      <td>0</td>\n",
              "      <td>0</td>\n",
              "      <td>0</td>\n",
              "      <td>0</td>\n",
              "      <td>0</td>\n",
              "      <td>0</td>\n",
              "      <td>0</td>\n",
              "      <td>0</td>\n",
              "      <td>0</td>\n",
              "      <td>0</td>\n",
              "      <td>0</td>\n",
              "      <td>0</td>\n",
              "      <td>...</td>\n",
              "      <td>0</td>\n",
              "      <td>0</td>\n",
              "      <td>0</td>\n",
              "      <td>0</td>\n",
              "      <td>0</td>\n",
              "      <td>0</td>\n",
              "      <td>0</td>\n",
              "      <td>0</td>\n",
              "      <td>0</td>\n",
              "      <td>0</td>\n",
              "      <td>0</td>\n",
              "      <td>0</td>\n",
              "      <td>0</td>\n",
              "      <td>0</td>\n",
              "      <td>0</td>\n",
              "      <td>0</td>\n",
              "      <td>0</td>\n",
              "      <td>0</td>\n",
              "      <td>0</td>\n",
              "      <td>0</td>\n",
              "      <td>0</td>\n",
              "      <td>0</td>\n",
              "      <td>0</td>\n",
              "      <td>0</td>\n",
              "      <td>0</td>\n",
              "      <td>0</td>\n",
              "      <td>0</td>\n",
              "      <td>0</td>\n",
              "      <td>0</td>\n",
              "      <td>0</td>\n",
              "      <td>0</td>\n",
              "      <td>0</td>\n",
              "      <td>0</td>\n",
              "      <td>0</td>\n",
              "      <td>0</td>\n",
              "      <td>0</td>\n",
              "      <td>0</td>\n",
              "      <td>0</td>\n",
              "      <td>0</td>\n",
              "      <td>0</td>\n",
              "    </tr>\n",
              "    <tr>\n",
              "      <th>3</th>\n",
              "      <td>4</td>\n",
              "      <td>0</td>\n",
              "      <td>0</td>\n",
              "      <td>0</td>\n",
              "      <td>0</td>\n",
              "      <td>0</td>\n",
              "      <td>0</td>\n",
              "      <td>0</td>\n",
              "      <td>0</td>\n",
              "      <td>0</td>\n",
              "      <td>0</td>\n",
              "      <td>0</td>\n",
              "      <td>0</td>\n",
              "      <td>0</td>\n",
              "      <td>0</td>\n",
              "      <td>0</td>\n",
              "      <td>0</td>\n",
              "      <td>0</td>\n",
              "      <td>0</td>\n",
              "      <td>0</td>\n",
              "      <td>0</td>\n",
              "      <td>0</td>\n",
              "      <td>0</td>\n",
              "      <td>0</td>\n",
              "      <td>0</td>\n",
              "      <td>0</td>\n",
              "      <td>0</td>\n",
              "      <td>0</td>\n",
              "      <td>0</td>\n",
              "      <td>0</td>\n",
              "      <td>0</td>\n",
              "      <td>0</td>\n",
              "      <td>0</td>\n",
              "      <td>0</td>\n",
              "      <td>0</td>\n",
              "      <td>0</td>\n",
              "      <td>0</td>\n",
              "      <td>0</td>\n",
              "      <td>0</td>\n",
              "      <td>0</td>\n",
              "      <td>...</td>\n",
              "      <td>0</td>\n",
              "      <td>0</td>\n",
              "      <td>0</td>\n",
              "      <td>0</td>\n",
              "      <td>0</td>\n",
              "      <td>0</td>\n",
              "      <td>0</td>\n",
              "      <td>0</td>\n",
              "      <td>0</td>\n",
              "      <td>0</td>\n",
              "      <td>0</td>\n",
              "      <td>0</td>\n",
              "      <td>0</td>\n",
              "      <td>0</td>\n",
              "      <td>0</td>\n",
              "      <td>0</td>\n",
              "      <td>0</td>\n",
              "      <td>0</td>\n",
              "      <td>0</td>\n",
              "      <td>0</td>\n",
              "      <td>0</td>\n",
              "      <td>0</td>\n",
              "      <td>0</td>\n",
              "      <td>0</td>\n",
              "      <td>0</td>\n",
              "      <td>0</td>\n",
              "      <td>0</td>\n",
              "      <td>0</td>\n",
              "      <td>0</td>\n",
              "      <td>0</td>\n",
              "      <td>0</td>\n",
              "      <td>0</td>\n",
              "      <td>0</td>\n",
              "      <td>0</td>\n",
              "      <td>0</td>\n",
              "      <td>0</td>\n",
              "      <td>0</td>\n",
              "      <td>0</td>\n",
              "      <td>0</td>\n",
              "      <td>0</td>\n",
              "    </tr>\n",
              "    <tr>\n",
              "      <th>4</th>\n",
              "      <td>0</td>\n",
              "      <td>0</td>\n",
              "      <td>0</td>\n",
              "      <td>0</td>\n",
              "      <td>0</td>\n",
              "      <td>0</td>\n",
              "      <td>0</td>\n",
              "      <td>0</td>\n",
              "      <td>0</td>\n",
              "      <td>0</td>\n",
              "      <td>0</td>\n",
              "      <td>0</td>\n",
              "      <td>0</td>\n",
              "      <td>0</td>\n",
              "      <td>0</td>\n",
              "      <td>0</td>\n",
              "      <td>0</td>\n",
              "      <td>0</td>\n",
              "      <td>0</td>\n",
              "      <td>0</td>\n",
              "      <td>0</td>\n",
              "      <td>0</td>\n",
              "      <td>0</td>\n",
              "      <td>0</td>\n",
              "      <td>0</td>\n",
              "      <td>0</td>\n",
              "      <td>0</td>\n",
              "      <td>0</td>\n",
              "      <td>0</td>\n",
              "      <td>0</td>\n",
              "      <td>0</td>\n",
              "      <td>0</td>\n",
              "      <td>0</td>\n",
              "      <td>0</td>\n",
              "      <td>0</td>\n",
              "      <td>0</td>\n",
              "      <td>0</td>\n",
              "      <td>0</td>\n",
              "      <td>0</td>\n",
              "      <td>0</td>\n",
              "      <td>...</td>\n",
              "      <td>0</td>\n",
              "      <td>0</td>\n",
              "      <td>0</td>\n",
              "      <td>0</td>\n",
              "      <td>0</td>\n",
              "      <td>0</td>\n",
              "      <td>0</td>\n",
              "      <td>0</td>\n",
              "      <td>0</td>\n",
              "      <td>0</td>\n",
              "      <td>0</td>\n",
              "      <td>0</td>\n",
              "      <td>0</td>\n",
              "      <td>0</td>\n",
              "      <td>0</td>\n",
              "      <td>0</td>\n",
              "      <td>0</td>\n",
              "      <td>0</td>\n",
              "      <td>0</td>\n",
              "      <td>0</td>\n",
              "      <td>0</td>\n",
              "      <td>0</td>\n",
              "      <td>0</td>\n",
              "      <td>0</td>\n",
              "      <td>0</td>\n",
              "      <td>0</td>\n",
              "      <td>0</td>\n",
              "      <td>0</td>\n",
              "      <td>0</td>\n",
              "      <td>0</td>\n",
              "      <td>0</td>\n",
              "      <td>0</td>\n",
              "      <td>0</td>\n",
              "      <td>0</td>\n",
              "      <td>0</td>\n",
              "      <td>0</td>\n",
              "      <td>0</td>\n",
              "      <td>0</td>\n",
              "      <td>0</td>\n",
              "      <td>0</td>\n",
              "    </tr>\n",
              "  </tbody>\n",
              "</table>\n",
              "<p>5 rows × 785 columns</p>\n",
              "</div>"
            ],
            "text/plain": [
              "   label  pixel0  pixel1  pixel2  ...  pixel780  pixel781  pixel782  pixel783\n",
              "0      1       0       0       0  ...         0         0         0         0\n",
              "1      0       0       0       0  ...         0         0         0         0\n",
              "2      1       0       0       0  ...         0         0         0         0\n",
              "3      4       0       0       0  ...         0         0         0         0\n",
              "4      0       0       0       0  ...         0         0         0         0\n",
              "\n",
              "[5 rows x 785 columns]"
            ]
          },
          "metadata": {
            "tags": []
          },
          "execution_count": 11
        }
      ]
    },
    {
      "cell_type": "code",
      "metadata": {
        "id": "SVu2wa7D98hT",
        "colab_type": "code",
        "colab": {
          "base_uri": "https://localhost:8080/",
          "height": 244
        },
        "outputId": "275ce2a6-2dc7-40c5-d62d-223c95058ffd"
      },
      "source": [
        "test.head()"
      ],
      "execution_count": 12,
      "outputs": [
        {
          "output_type": "execute_result",
          "data": {
            "text/html": [
              "<div>\n",
              "<style scoped>\n",
              "    .dataframe tbody tr th:only-of-type {\n",
              "        vertical-align: middle;\n",
              "    }\n",
              "\n",
              "    .dataframe tbody tr th {\n",
              "        vertical-align: top;\n",
              "    }\n",
              "\n",
              "    .dataframe thead th {\n",
              "        text-align: right;\n",
              "    }\n",
              "</style>\n",
              "<table border=\"1\" class=\"dataframe\">\n",
              "  <thead>\n",
              "    <tr style=\"text-align: right;\">\n",
              "      <th></th>\n",
              "      <th>pixel0</th>\n",
              "      <th>pixel1</th>\n",
              "      <th>pixel2</th>\n",
              "      <th>pixel3</th>\n",
              "      <th>pixel4</th>\n",
              "      <th>pixel5</th>\n",
              "      <th>pixel6</th>\n",
              "      <th>pixel7</th>\n",
              "      <th>pixel8</th>\n",
              "      <th>pixel9</th>\n",
              "      <th>pixel10</th>\n",
              "      <th>pixel11</th>\n",
              "      <th>pixel12</th>\n",
              "      <th>pixel13</th>\n",
              "      <th>pixel14</th>\n",
              "      <th>pixel15</th>\n",
              "      <th>pixel16</th>\n",
              "      <th>pixel17</th>\n",
              "      <th>pixel18</th>\n",
              "      <th>pixel19</th>\n",
              "      <th>pixel20</th>\n",
              "      <th>pixel21</th>\n",
              "      <th>pixel22</th>\n",
              "      <th>pixel23</th>\n",
              "      <th>pixel24</th>\n",
              "      <th>pixel25</th>\n",
              "      <th>pixel26</th>\n",
              "      <th>pixel27</th>\n",
              "      <th>pixel28</th>\n",
              "      <th>pixel29</th>\n",
              "      <th>pixel30</th>\n",
              "      <th>pixel31</th>\n",
              "      <th>pixel32</th>\n",
              "      <th>pixel33</th>\n",
              "      <th>pixel34</th>\n",
              "      <th>pixel35</th>\n",
              "      <th>pixel36</th>\n",
              "      <th>pixel37</th>\n",
              "      <th>pixel38</th>\n",
              "      <th>pixel39</th>\n",
              "      <th>...</th>\n",
              "      <th>pixel744</th>\n",
              "      <th>pixel745</th>\n",
              "      <th>pixel746</th>\n",
              "      <th>pixel747</th>\n",
              "      <th>pixel748</th>\n",
              "      <th>pixel749</th>\n",
              "      <th>pixel750</th>\n",
              "      <th>pixel751</th>\n",
              "      <th>pixel752</th>\n",
              "      <th>pixel753</th>\n",
              "      <th>pixel754</th>\n",
              "      <th>pixel755</th>\n",
              "      <th>pixel756</th>\n",
              "      <th>pixel757</th>\n",
              "      <th>pixel758</th>\n",
              "      <th>pixel759</th>\n",
              "      <th>pixel760</th>\n",
              "      <th>pixel761</th>\n",
              "      <th>pixel762</th>\n",
              "      <th>pixel763</th>\n",
              "      <th>pixel764</th>\n",
              "      <th>pixel765</th>\n",
              "      <th>pixel766</th>\n",
              "      <th>pixel767</th>\n",
              "      <th>pixel768</th>\n",
              "      <th>pixel769</th>\n",
              "      <th>pixel770</th>\n",
              "      <th>pixel771</th>\n",
              "      <th>pixel772</th>\n",
              "      <th>pixel773</th>\n",
              "      <th>pixel774</th>\n",
              "      <th>pixel775</th>\n",
              "      <th>pixel776</th>\n",
              "      <th>pixel777</th>\n",
              "      <th>pixel778</th>\n",
              "      <th>pixel779</th>\n",
              "      <th>pixel780</th>\n",
              "      <th>pixel781</th>\n",
              "      <th>pixel782</th>\n",
              "      <th>pixel783</th>\n",
              "    </tr>\n",
              "  </thead>\n",
              "  <tbody>\n",
              "    <tr>\n",
              "      <th>0</th>\n",
              "      <td>0</td>\n",
              "      <td>0</td>\n",
              "      <td>0</td>\n",
              "      <td>0</td>\n",
              "      <td>0</td>\n",
              "      <td>0</td>\n",
              "      <td>0</td>\n",
              "      <td>0</td>\n",
              "      <td>0</td>\n",
              "      <td>0</td>\n",
              "      <td>0</td>\n",
              "      <td>0</td>\n",
              "      <td>0</td>\n",
              "      <td>0</td>\n",
              "      <td>0</td>\n",
              "      <td>0</td>\n",
              "      <td>0</td>\n",
              "      <td>0</td>\n",
              "      <td>0</td>\n",
              "      <td>0</td>\n",
              "      <td>0</td>\n",
              "      <td>0</td>\n",
              "      <td>0</td>\n",
              "      <td>0</td>\n",
              "      <td>0</td>\n",
              "      <td>0</td>\n",
              "      <td>0</td>\n",
              "      <td>0</td>\n",
              "      <td>0</td>\n",
              "      <td>0</td>\n",
              "      <td>0</td>\n",
              "      <td>0</td>\n",
              "      <td>0</td>\n",
              "      <td>0</td>\n",
              "      <td>0</td>\n",
              "      <td>0</td>\n",
              "      <td>0</td>\n",
              "      <td>0</td>\n",
              "      <td>0</td>\n",
              "      <td>0</td>\n",
              "      <td>...</td>\n",
              "      <td>0</td>\n",
              "      <td>0</td>\n",
              "      <td>0</td>\n",
              "      <td>0</td>\n",
              "      <td>0</td>\n",
              "      <td>0</td>\n",
              "      <td>0</td>\n",
              "      <td>0</td>\n",
              "      <td>0</td>\n",
              "      <td>0</td>\n",
              "      <td>0</td>\n",
              "      <td>0</td>\n",
              "      <td>0</td>\n",
              "      <td>0</td>\n",
              "      <td>0</td>\n",
              "      <td>0</td>\n",
              "      <td>0</td>\n",
              "      <td>0</td>\n",
              "      <td>0</td>\n",
              "      <td>0</td>\n",
              "      <td>0</td>\n",
              "      <td>0</td>\n",
              "      <td>0</td>\n",
              "      <td>0</td>\n",
              "      <td>0</td>\n",
              "      <td>0</td>\n",
              "      <td>0</td>\n",
              "      <td>0</td>\n",
              "      <td>0</td>\n",
              "      <td>0</td>\n",
              "      <td>0</td>\n",
              "      <td>0</td>\n",
              "      <td>0</td>\n",
              "      <td>0</td>\n",
              "      <td>0</td>\n",
              "      <td>0</td>\n",
              "      <td>0</td>\n",
              "      <td>0</td>\n",
              "      <td>0</td>\n",
              "      <td>0</td>\n",
              "    </tr>\n",
              "    <tr>\n",
              "      <th>1</th>\n",
              "      <td>0</td>\n",
              "      <td>0</td>\n",
              "      <td>0</td>\n",
              "      <td>0</td>\n",
              "      <td>0</td>\n",
              "      <td>0</td>\n",
              "      <td>0</td>\n",
              "      <td>0</td>\n",
              "      <td>0</td>\n",
              "      <td>0</td>\n",
              "      <td>0</td>\n",
              "      <td>0</td>\n",
              "      <td>0</td>\n",
              "      <td>0</td>\n",
              "      <td>0</td>\n",
              "      <td>0</td>\n",
              "      <td>0</td>\n",
              "      <td>0</td>\n",
              "      <td>0</td>\n",
              "      <td>0</td>\n",
              "      <td>0</td>\n",
              "      <td>0</td>\n",
              "      <td>0</td>\n",
              "      <td>0</td>\n",
              "      <td>0</td>\n",
              "      <td>0</td>\n",
              "      <td>0</td>\n",
              "      <td>0</td>\n",
              "      <td>0</td>\n",
              "      <td>0</td>\n",
              "      <td>0</td>\n",
              "      <td>0</td>\n",
              "      <td>0</td>\n",
              "      <td>0</td>\n",
              "      <td>0</td>\n",
              "      <td>0</td>\n",
              "      <td>0</td>\n",
              "      <td>0</td>\n",
              "      <td>0</td>\n",
              "      <td>0</td>\n",
              "      <td>...</td>\n",
              "      <td>0</td>\n",
              "      <td>0</td>\n",
              "      <td>0</td>\n",
              "      <td>0</td>\n",
              "      <td>0</td>\n",
              "      <td>0</td>\n",
              "      <td>0</td>\n",
              "      <td>0</td>\n",
              "      <td>0</td>\n",
              "      <td>0</td>\n",
              "      <td>0</td>\n",
              "      <td>0</td>\n",
              "      <td>0</td>\n",
              "      <td>0</td>\n",
              "      <td>0</td>\n",
              "      <td>0</td>\n",
              "      <td>0</td>\n",
              "      <td>0</td>\n",
              "      <td>0</td>\n",
              "      <td>0</td>\n",
              "      <td>0</td>\n",
              "      <td>0</td>\n",
              "      <td>0</td>\n",
              "      <td>0</td>\n",
              "      <td>0</td>\n",
              "      <td>0</td>\n",
              "      <td>0</td>\n",
              "      <td>0</td>\n",
              "      <td>0</td>\n",
              "      <td>0</td>\n",
              "      <td>0</td>\n",
              "      <td>0</td>\n",
              "      <td>0</td>\n",
              "      <td>0</td>\n",
              "      <td>0</td>\n",
              "      <td>0</td>\n",
              "      <td>0</td>\n",
              "      <td>0</td>\n",
              "      <td>0</td>\n",
              "      <td>0</td>\n",
              "    </tr>\n",
              "    <tr>\n",
              "      <th>2</th>\n",
              "      <td>0</td>\n",
              "      <td>0</td>\n",
              "      <td>0</td>\n",
              "      <td>0</td>\n",
              "      <td>0</td>\n",
              "      <td>0</td>\n",
              "      <td>0</td>\n",
              "      <td>0</td>\n",
              "      <td>0</td>\n",
              "      <td>0</td>\n",
              "      <td>0</td>\n",
              "      <td>0</td>\n",
              "      <td>0</td>\n",
              "      <td>0</td>\n",
              "      <td>0</td>\n",
              "      <td>0</td>\n",
              "      <td>0</td>\n",
              "      <td>0</td>\n",
              "      <td>0</td>\n",
              "      <td>0</td>\n",
              "      <td>0</td>\n",
              "      <td>0</td>\n",
              "      <td>0</td>\n",
              "      <td>0</td>\n",
              "      <td>0</td>\n",
              "      <td>0</td>\n",
              "      <td>0</td>\n",
              "      <td>0</td>\n",
              "      <td>0</td>\n",
              "      <td>0</td>\n",
              "      <td>0</td>\n",
              "      <td>0</td>\n",
              "      <td>0</td>\n",
              "      <td>0</td>\n",
              "      <td>0</td>\n",
              "      <td>0</td>\n",
              "      <td>0</td>\n",
              "      <td>0</td>\n",
              "      <td>0</td>\n",
              "      <td>0</td>\n",
              "      <td>...</td>\n",
              "      <td>0</td>\n",
              "      <td>0</td>\n",
              "      <td>0</td>\n",
              "      <td>0</td>\n",
              "      <td>0</td>\n",
              "      <td>0</td>\n",
              "      <td>0</td>\n",
              "      <td>0</td>\n",
              "      <td>0</td>\n",
              "      <td>0</td>\n",
              "      <td>0</td>\n",
              "      <td>0</td>\n",
              "      <td>0</td>\n",
              "      <td>0</td>\n",
              "      <td>0</td>\n",
              "      <td>0</td>\n",
              "      <td>0</td>\n",
              "      <td>0</td>\n",
              "      <td>0</td>\n",
              "      <td>0</td>\n",
              "      <td>0</td>\n",
              "      <td>0</td>\n",
              "      <td>0</td>\n",
              "      <td>0</td>\n",
              "      <td>0</td>\n",
              "      <td>0</td>\n",
              "      <td>0</td>\n",
              "      <td>0</td>\n",
              "      <td>0</td>\n",
              "      <td>0</td>\n",
              "      <td>0</td>\n",
              "      <td>0</td>\n",
              "      <td>0</td>\n",
              "      <td>0</td>\n",
              "      <td>0</td>\n",
              "      <td>0</td>\n",
              "      <td>0</td>\n",
              "      <td>0</td>\n",
              "      <td>0</td>\n",
              "      <td>0</td>\n",
              "    </tr>\n",
              "    <tr>\n",
              "      <th>3</th>\n",
              "      <td>0</td>\n",
              "      <td>0</td>\n",
              "      <td>0</td>\n",
              "      <td>0</td>\n",
              "      <td>0</td>\n",
              "      <td>0</td>\n",
              "      <td>0</td>\n",
              "      <td>0</td>\n",
              "      <td>0</td>\n",
              "      <td>0</td>\n",
              "      <td>0</td>\n",
              "      <td>0</td>\n",
              "      <td>0</td>\n",
              "      <td>0</td>\n",
              "      <td>0</td>\n",
              "      <td>0</td>\n",
              "      <td>0</td>\n",
              "      <td>0</td>\n",
              "      <td>0</td>\n",
              "      <td>0</td>\n",
              "      <td>0</td>\n",
              "      <td>0</td>\n",
              "      <td>0</td>\n",
              "      <td>0</td>\n",
              "      <td>0</td>\n",
              "      <td>0</td>\n",
              "      <td>0</td>\n",
              "      <td>0</td>\n",
              "      <td>0</td>\n",
              "      <td>0</td>\n",
              "      <td>0</td>\n",
              "      <td>0</td>\n",
              "      <td>0</td>\n",
              "      <td>0</td>\n",
              "      <td>0</td>\n",
              "      <td>0</td>\n",
              "      <td>0</td>\n",
              "      <td>0</td>\n",
              "      <td>0</td>\n",
              "      <td>0</td>\n",
              "      <td>...</td>\n",
              "      <td>0</td>\n",
              "      <td>0</td>\n",
              "      <td>0</td>\n",
              "      <td>0</td>\n",
              "      <td>0</td>\n",
              "      <td>0</td>\n",
              "      <td>0</td>\n",
              "      <td>0</td>\n",
              "      <td>0</td>\n",
              "      <td>0</td>\n",
              "      <td>0</td>\n",
              "      <td>0</td>\n",
              "      <td>0</td>\n",
              "      <td>0</td>\n",
              "      <td>0</td>\n",
              "      <td>0</td>\n",
              "      <td>0</td>\n",
              "      <td>0</td>\n",
              "      <td>0</td>\n",
              "      <td>0</td>\n",
              "      <td>0</td>\n",
              "      <td>0</td>\n",
              "      <td>0</td>\n",
              "      <td>0</td>\n",
              "      <td>0</td>\n",
              "      <td>0</td>\n",
              "      <td>0</td>\n",
              "      <td>0</td>\n",
              "      <td>0</td>\n",
              "      <td>0</td>\n",
              "      <td>0</td>\n",
              "      <td>0</td>\n",
              "      <td>0</td>\n",
              "      <td>0</td>\n",
              "      <td>0</td>\n",
              "      <td>0</td>\n",
              "      <td>0</td>\n",
              "      <td>0</td>\n",
              "      <td>0</td>\n",
              "      <td>0</td>\n",
              "    </tr>\n",
              "    <tr>\n",
              "      <th>4</th>\n",
              "      <td>0</td>\n",
              "      <td>0</td>\n",
              "      <td>0</td>\n",
              "      <td>0</td>\n",
              "      <td>0</td>\n",
              "      <td>0</td>\n",
              "      <td>0</td>\n",
              "      <td>0</td>\n",
              "      <td>0</td>\n",
              "      <td>0</td>\n",
              "      <td>0</td>\n",
              "      <td>0</td>\n",
              "      <td>0</td>\n",
              "      <td>0</td>\n",
              "      <td>0</td>\n",
              "      <td>0</td>\n",
              "      <td>0</td>\n",
              "      <td>0</td>\n",
              "      <td>0</td>\n",
              "      <td>0</td>\n",
              "      <td>0</td>\n",
              "      <td>0</td>\n",
              "      <td>0</td>\n",
              "      <td>0</td>\n",
              "      <td>0</td>\n",
              "      <td>0</td>\n",
              "      <td>0</td>\n",
              "      <td>0</td>\n",
              "      <td>0</td>\n",
              "      <td>0</td>\n",
              "      <td>0</td>\n",
              "      <td>0</td>\n",
              "      <td>0</td>\n",
              "      <td>0</td>\n",
              "      <td>0</td>\n",
              "      <td>0</td>\n",
              "      <td>0</td>\n",
              "      <td>0</td>\n",
              "      <td>0</td>\n",
              "      <td>0</td>\n",
              "      <td>...</td>\n",
              "      <td>0</td>\n",
              "      <td>0</td>\n",
              "      <td>0</td>\n",
              "      <td>0</td>\n",
              "      <td>0</td>\n",
              "      <td>0</td>\n",
              "      <td>0</td>\n",
              "      <td>0</td>\n",
              "      <td>0</td>\n",
              "      <td>0</td>\n",
              "      <td>0</td>\n",
              "      <td>0</td>\n",
              "      <td>0</td>\n",
              "      <td>0</td>\n",
              "      <td>0</td>\n",
              "      <td>0</td>\n",
              "      <td>0</td>\n",
              "      <td>0</td>\n",
              "      <td>0</td>\n",
              "      <td>0</td>\n",
              "      <td>0</td>\n",
              "      <td>0</td>\n",
              "      <td>0</td>\n",
              "      <td>0</td>\n",
              "      <td>0</td>\n",
              "      <td>0</td>\n",
              "      <td>0</td>\n",
              "      <td>0</td>\n",
              "      <td>0</td>\n",
              "      <td>0</td>\n",
              "      <td>0</td>\n",
              "      <td>0</td>\n",
              "      <td>0</td>\n",
              "      <td>0</td>\n",
              "      <td>0</td>\n",
              "      <td>0</td>\n",
              "      <td>0</td>\n",
              "      <td>0</td>\n",
              "      <td>0</td>\n",
              "      <td>0</td>\n",
              "    </tr>\n",
              "  </tbody>\n",
              "</table>\n",
              "<p>5 rows × 784 columns</p>\n",
              "</div>"
            ],
            "text/plain": [
              "   pixel0  pixel1  pixel2  pixel3  ...  pixel780  pixel781  pixel782  pixel783\n",
              "0       0       0       0       0  ...         0         0         0         0\n",
              "1       0       0       0       0  ...         0         0         0         0\n",
              "2       0       0       0       0  ...         0         0         0         0\n",
              "3       0       0       0       0  ...         0         0         0         0\n",
              "4       0       0       0       0  ...         0         0         0         0\n",
              "\n",
              "[5 rows x 784 columns]"
            ]
          },
          "metadata": {
            "tags": []
          },
          "execution_count": 12
        }
      ]
    },
    {
      "cell_type": "code",
      "metadata": {
        "id": "AvZ3Lu00-DQh",
        "colab_type": "code",
        "colab": {}
      },
      "source": [
        "y_train = train['label']\n",
        "x_train = train.drop('label',axis=1)"
      ],
      "execution_count": 0,
      "outputs": []
    },
    {
      "cell_type": "code",
      "metadata": {
        "id": "7LYAEYtJ-VDV",
        "colab_type": "code",
        "colab": {
          "base_uri": "https://localhost:8080/",
          "height": 202
        },
        "outputId": "f48435ac-1bb6-4ec5-9e7d-266470ad3a54"
      },
      "source": [
        "y_train.value_counts()"
      ],
      "execution_count": 14,
      "outputs": [
        {
          "output_type": "execute_result",
          "data": {
            "text/plain": [
              "1    4684\n",
              "7    4401\n",
              "3    4351\n",
              "9    4188\n",
              "2    4177\n",
              "6    4137\n",
              "0    4132\n",
              "4    4072\n",
              "8    4063\n",
              "5    3795\n",
              "Name: label, dtype: int64"
            ]
          },
          "metadata": {
            "tags": []
          },
          "execution_count": 14
        }
      ]
    },
    {
      "cell_type": "markdown",
      "metadata": {
        "id": "RxDfJKUm-hIz",
        "colab_type": "text"
      },
      "source": [
        "\n",
        "### check for missing values"
      ]
    },
    {
      "cell_type": "code",
      "metadata": {
        "id": "lw2hlpgA_l0Z",
        "colab_type": "code",
        "colab": {
          "base_uri": "https://localhost:8080/",
          "height": 101
        },
        "outputId": "863831ad-4a2a-4f61-e7ee-4ebbd2eadf10"
      },
      "source": [
        "x_train.isna().any().describe()"
      ],
      "execution_count": 15,
      "outputs": [
        {
          "output_type": "execute_result",
          "data": {
            "text/plain": [
              "count       784\n",
              "unique        1\n",
              "top       False\n",
              "freq        784\n",
              "dtype: object"
            ]
          },
          "metadata": {
            "tags": []
          },
          "execution_count": 15
        }
      ]
    },
    {
      "cell_type": "code",
      "metadata": {
        "id": "RQOebfLO_zSg",
        "colab_type": "code",
        "colab": {
          "base_uri": "https://localhost:8080/",
          "height": 101
        },
        "outputId": "5d3f028d-b77e-4669-ee6f-c875c74eb803"
      },
      "source": [
        "test.isna().any().describe()"
      ],
      "execution_count": 16,
      "outputs": [
        {
          "output_type": "execute_result",
          "data": {
            "text/plain": [
              "count       784\n",
              "unique        1\n",
              "top       False\n",
              "freq        784\n",
              "dtype: object"
            ]
          },
          "metadata": {
            "tags": []
          },
          "execution_count": 16
        }
      ]
    },
    {
      "cell_type": "markdown",
      "metadata": {
        "id": "c3ULueZaAjUo",
        "colab_type": "text"
      },
      "source": [
        "### Normalizing"
      ]
    },
    {
      "cell_type": "code",
      "metadata": {
        "id": "XnLkrebRAq4S",
        "colab_type": "code",
        "colab": {}
      },
      "source": [
        "x_train/=255.0\n",
        "test/=255.0"
      ],
      "execution_count": 0,
      "outputs": []
    },
    {
      "cell_type": "markdown",
      "metadata": {
        "id": "lO5sucIlAzxG",
        "colab_type": "text"
      },
      "source": [
        "### Reshape"
      ]
    },
    {
      "cell_type": "code",
      "metadata": {
        "id": "xTDo_3YBA4Xf",
        "colab_type": "code",
        "colab": {
          "base_uri": "https://localhost:8080/",
          "height": 34
        },
        "outputId": "91a0c890-06f3-4426-d0d5-73db45f81367"
      },
      "source": [
        "x_train.shape"
      ],
      "execution_count": 18,
      "outputs": [
        {
          "output_type": "execute_result",
          "data": {
            "text/plain": [
              "(42000, 784)"
            ]
          },
          "metadata": {
            "tags": []
          },
          "execution_count": 18
        }
      ]
    },
    {
      "cell_type": "code",
      "metadata": {
        "id": "qWVTGUZKA7IJ",
        "colab_type": "code",
        "colab": {}
      },
      "source": [
        "x_train = x_train.values.reshape(-1,28,28,1)"
      ],
      "execution_count": 0,
      "outputs": []
    },
    {
      "cell_type": "code",
      "metadata": {
        "id": "TfzDPVM5BE15",
        "colab_type": "code",
        "colab": {
          "base_uri": "https://localhost:8080/",
          "height": 34
        },
        "outputId": "8c5bdc74-087d-4a7a-9dab-4d9c533f5e52"
      },
      "source": [
        "x_train.shape"
      ],
      "execution_count": 20,
      "outputs": [
        {
          "output_type": "execute_result",
          "data": {
            "text/plain": [
              "(42000, 28, 28, 1)"
            ]
          },
          "metadata": {
            "tags": []
          },
          "execution_count": 20
        }
      ]
    },
    {
      "cell_type": "code",
      "metadata": {
        "id": "VRN8dXxHBbOO",
        "colab_type": "code",
        "colab": {
          "base_uri": "https://localhost:8080/",
          "height": 34
        },
        "outputId": "abd4a91a-40c2-464f-9bb1-85c0086cd0fa"
      },
      "source": [
        "test = test.values.reshape(-1,28,28,1)\n",
        "test.shape"
      ],
      "execution_count": 21,
      "outputs": [
        {
          "output_type": "execute_result",
          "data": {
            "text/plain": [
              "(28000, 28, 28, 1)"
            ]
          },
          "metadata": {
            "tags": []
          },
          "execution_count": 21
        }
      ]
    },
    {
      "cell_type": "markdown",
      "metadata": {
        "id": "R3fu7tMYBkzU",
        "colab_type": "text"
      },
      "source": [
        "### Label Encoding"
      ]
    },
    {
      "cell_type": "code",
      "metadata": {
        "id": "rSZXiPg_BzgD",
        "colab_type": "code",
        "colab": {}
      },
      "source": [
        "y_train = tf.keras.utils.to_categorical(y_train,num_classes=10)"
      ],
      "execution_count": 0,
      "outputs": []
    },
    {
      "cell_type": "code",
      "metadata": {
        "id": "xFiwh2FhCMFI",
        "colab_type": "code",
        "colab": {
          "base_uri": "https://localhost:8080/",
          "height": 101
        },
        "outputId": "bff5b6e4-f5e7-4dc0-b1df-7e87699870c2"
      },
      "source": [
        "y_train[:5]"
      ],
      "execution_count": 23,
      "outputs": [
        {
          "output_type": "execute_result",
          "data": {
            "text/plain": [
              "array([[0., 1., 0., 0., 0., 0., 0., 0., 0., 0.],\n",
              "       [1., 0., 0., 0., 0., 0., 0., 0., 0., 0.],\n",
              "       [0., 1., 0., 0., 0., 0., 0., 0., 0., 0.],\n",
              "       [0., 0., 0., 0., 1., 0., 0., 0., 0., 0.],\n",
              "       [1., 0., 0., 0., 0., 0., 0., 0., 0., 0.]], dtype=float32)"
            ]
          },
          "metadata": {
            "tags": []
          },
          "execution_count": 23
        }
      ]
    },
    {
      "cell_type": "markdown",
      "metadata": {
        "id": "87eSlo_QCPyU",
        "colab_type": "text"
      },
      "source": [
        "### Split Training and validation set"
      ]
    },
    {
      "cell_type": "code",
      "metadata": {
        "id": "HiIYZFIcCZK0",
        "colab_type": "code",
        "colab": {}
      },
      "source": [
        "from sklearn.model_selection import train_test_split\n",
        "X_train,X_val,Y_train,Y_val = train_test_split(x_train,y_train,test_size=0.1,random_state=42)"
      ],
      "execution_count": 0,
      "outputs": []
    },
    {
      "cell_type": "code",
      "metadata": {
        "id": "evDeZJt-C4Md",
        "colab_type": "code",
        "colab": {
          "base_uri": "https://localhost:8080/",
          "height": 34
        },
        "outputId": "c15d0c4a-08d4-423b-9d63-a04492bbe8ee"
      },
      "source": [
        "print(X_train.shape,X_val.shape,Y_train.shape,Y_val.shape)"
      ],
      "execution_count": 25,
      "outputs": [
        {
          "output_type": "stream",
          "text": [
            "(37800, 28, 28, 1) (4200, 28, 28, 1) (37800, 10) (4200, 10)\n"
          ],
          "name": "stdout"
        }
      ]
    },
    {
      "cell_type": "code",
      "metadata": {
        "id": "BtXTOHOSDfuA",
        "colab_type": "code",
        "colab": {
          "base_uri": "https://localhost:8080/",
          "height": 282
        },
        "outputId": "995d94f3-6cd2-49ed-d47d-dcc509de67ed"
      },
      "source": [
        "plt.imshow(X_train[9,:,:,0])"
      ],
      "execution_count": 26,
      "outputs": [
        {
          "output_type": "execute_result",
          "data": {
            "text/plain": [
              "<matplotlib.image.AxesImage at 0x7fa63f808278>"
            ]
          },
          "metadata": {
            "tags": []
          },
          "execution_count": 26
        },
        {
          "output_type": "display_data",
          "data": {
            "image/png": "[encoded data removed]",
            "text/plain": [
              "<Figure size 432x288 with 1 Axes>"
            ]
          },
          "metadata": {
            "tags": [],
            "needs_background": "light"
          }
        }
      ]
    },
    {
      "cell_type": "markdown",
      "metadata": {
        "id": "5HtjthF9D6u3",
        "colab_type": "text"
      },
      "source": [
        "# CNN"
      ]
    },
    {
      "cell_type": "markdown",
      "metadata": {
        "id": "tNcJMVe1EGJH",
        "colab_type": "text"
      },
      "source": [
        "### Defining Model"
      ]
    },
    {
      "cell_type": "code",
      "metadata": {
        "id": "BcNhd6EOEWGg",
        "colab_type": "code",
        "colab": {
          "base_uri": "https://localhost:8080/",
          "height": 588
        },
        "outputId": "3c909f7e-1c5e-40e8-88e3-92105d8a6da1"
      },
      "source": [
        "model = tf.keras.Sequential(layers=[tf.keras.layers.Conv2D(16,(3,3),input_shape=(28,28,1),padding='same',activation='relu'),\n",
        "                                    tf.keras.layers.MaxPool2D((2,2)),\n",
        "                                    tf.keras.layers.Conv2D(32,(3,3),padding='same',activation='relu'),\n",
        "                                    tf.keras.layers.Conv2D(32,(3,3),padding='same',activation='relu'),\n",
        "                                    tf.keras.layers.MaxPool2D((2,2)),\n",
        "                                    tf.keras.layers.Conv2D(64,(3,3),padding='same',activation='relu'),\n",
        "                                    tf.keras.layers.Conv2D(64,(3,3),padding='same',activation='relu'),\n",
        "                                    tf.keras.layers.MaxPool2D((2,2)),\n",
        "                                    tf.keras.layers.Flatten(),\n",
        "                                    tf.keras.layers.Dense(512,activation='relu'),\n",
        "                                    tf.keras.layers.Dense(256,activation='relu'),\n",
        "                                    tf.keras.layers.Dense(128,activation='relu'),\n",
        "                                    tf.keras.layers.Dense(10,activation='softmax')\n",
        "                                    ])\n",
        "model.summary()"
      ],
      "execution_count": 27,
      "outputs": [
        {
          "output_type": "stream",
          "text": [
            "Model: \"sequential\"\n",
            "_________________________________________________________________\n",
            "Layer (type)                 Output Shape              Param #   \n",
            "=================================================================\n",
            "conv2d (Conv2D)              (None, 28, 28, 16)        160       \n",
            "_________________________________________________________________\n",
            "max_pooling2d (MaxPooling2D) (None, 14, 14, 16)        0         \n",
            "_________________________________________________________________\n",
            "conv2d_1 (Conv2D)            (None, 14, 14, 32)        4640      \n",
            "_________________________________________________________________\n",
            "conv2d_2 (Conv2D)            (None, 14, 14, 32)        9248      \n",
            "_________________________________________________________________\n",
            "max_pooling2d_1 (MaxPooling2 (None, 7, 7, 32)          0         \n",
            "_________________________________________________________________\n",
            "conv2d_3 (Conv2D)            (None, 7, 7, 64)          18496     \n",
            "_________________________________________________________________\n",
            "conv2d_4 (Conv2D)            (None, 7, 7, 64)          36928     \n",
            "_________________________________________________________________\n",
            "max_pooling2d_2 (MaxPooling2 (None, 3, 3, 64)          0         \n",
            "_________________________________________________________________\n",
            "flatten (Flatten)            (None, 576)               0         \n",
            "_________________________________________________________________\n",
            "dense (Dense)                (None, 512)               295424    \n",
            "_________________________________________________________________\n",
            "dense_1 (Dense)              (None, 256)               131328    \n",
            "_________________________________________________________________\n",
            "dense_2 (Dense)              (None, 128)               32896     \n",
            "_________________________________________________________________\n",
            "dense_3 (Dense)              (None, 10)                1290      \n",
            "=================================================================\n",
            "Total params: 530,410\n",
            "Trainable params: 530,410\n",
            "Non-trainable params: 0\n",
            "_________________________________________________________________\n"
          ],
          "name": "stdout"
        }
      ]
    },
    {
      "cell_type": "markdown",
      "metadata": {
        "id": "7LcPgONZGQC-",
        "colab_type": "text"
      },
      "source": [
        "### Initializing Optimizer"
      ]
    },
    {
      "cell_type": "code",
      "metadata": {
        "id": "xfQrrTRSHA04",
        "colab_type": "code",
        "colab": {}
      },
      "source": [
        "model.compile(optimizer=tf.keras.optimizers.Adam(),loss='categorical_crossentropy',metrics=['accuracy'])"
      ],
      "execution_count": 0,
      "outputs": []
    },
    {
      "cell_type": "markdown",
      "metadata": {
        "id": "qfUyhIh2HcEH",
        "colab_type": "text"
      },
      "source": [
        "### Data Augmentation"
      ]
    },
    {
      "cell_type": "code",
      "metadata": {
        "id": "LGzCbo4YH2e_",
        "colab_type": "code",
        "colab": {}
      },
      "source": [
        "from tensorflow.keras.preprocessing.image import ImageDataGenerator\n",
        "train_datagen = ImageDataGenerator(rotation_range=0.2,\n",
        "                                   width_shift_range=0.2,\n",
        "                                   height_shift_range=0.2,\n",
        "                                   shear_range=0.2,\n",
        "                                   zoom_range=0.2,\n",
        "                                   fill_mode='nearest')"
      ],
      "execution_count": 0,
      "outputs": []
    },
    {
      "cell_type": "code",
      "metadata": {
        "id": "V_ABp8yVICrN",
        "colab_type": "code",
        "colab": {}
      },
      "source": [
        "train_datagen.fit(X_train,seed=42)\n",
        "train_generator = train_datagen.flow(X_train,Y_train,batch_size=64,seed=42)"
      ],
      "execution_count": 0,
      "outputs": []
    },
    {
      "cell_type": "code",
      "metadata": {
        "id": "tab9nvP0JXhu",
        "colab_type": "code",
        "colab": {
          "base_uri": "https://localhost:8080/",
          "height": 1000
        },
        "outputId": "6ba62092-80d8-4049-eebf-1c591c67bc65"
      },
      "source": [
        "history = model.fit_generator(train_generator,steps_per_epoch=X_train.shape[0]//64,epochs=100,validation_data=(X_val,Y_val))"
      ],
      "execution_count": 31,
      "outputs": [
        {
          "output_type": "stream",
          "text": [
            "WARNING:tensorflow:From <ipython-input-31-f37f5be82e6e>:1: Model.fit_generator (from tensorflow.python.keras.engine.training) is deprecated and will be removed in a future version.\n",
            "Instructions for updating:\n",
            "Please use Model.fit, which supports generators.\n",
            "Epoch 1/100\n",
            "590/590 [==============================] - 11s 19ms/step - loss: 0.4766 - accuracy: 0.8420 - val_loss: 0.1170 - val_accuracy: 0.9640\n",
            "Epoch 2/100\n",
            "590/590 [==============================] - 11s 18ms/step - loss: 0.1321 - accuracy: 0.9596 - val_loss: 0.0693 - val_accuracy: 0.9798\n",
            "Epoch 3/100\n",
            "590/590 [==============================] - 10s 18ms/step - loss: 0.0985 - accuracy: 0.9703 - val_loss: 0.0664 - val_accuracy: 0.9821\n",
            "Epoch 4/100\n",
            "590/590 [==============================] - 10s 18ms/step - loss: 0.0756 - accuracy: 0.9775 - val_loss: 0.0522 - val_accuracy: 0.9852\n",
            "Epoch 5/100\n",
            "590/590 [==============================] - 10s 18ms/step - loss: 0.0700 - accuracy: 0.9787 - val_loss: 0.0452 - val_accuracy: 0.9869\n",
            "Epoch 6/100\n",
            "590/590 [==============================] - 10s 17ms/step - loss: 0.0621 - accuracy: 0.9808 - val_loss: 0.0623 - val_accuracy: 0.9836\n",
            "Epoch 7/100\n",
            "590/590 [==============================] - 10s 17ms/step - loss: 0.0566 - accuracy: 0.9832 - val_loss: 0.0469 - val_accuracy: 0.9869\n",
            "Epoch 8/100\n",
            "590/590 [==============================] - 10s 17ms/step - loss: 0.0538 - accuracy: 0.9840 - val_loss: 0.0344 - val_accuracy: 0.9902\n",
            "Epoch 9/100\n",
            "590/590 [==============================] - 10s 17ms/step - loss: 0.0475 - accuracy: 0.9862 - val_loss: 0.0280 - val_accuracy: 0.9924\n",
            "Epoch 10/100\n",
            "590/590 [==============================] - 10s 17ms/step - loss: 0.0470 - accuracy: 0.9868 - val_loss: 0.0338 - val_accuracy: 0.9902\n",
            "Epoch 11/100\n",
            "590/590 [==============================] - 10s 17ms/step - loss: 0.0445 - accuracy: 0.9878 - val_loss: 0.0381 - val_accuracy: 0.9886\n",
            "Epoch 12/100\n",
            "590/590 [==============================] - 10s 17ms/step - loss: 0.0433 - accuracy: 0.9874 - val_loss: 0.0408 - val_accuracy: 0.9886\n",
            "Epoch 13/100\n",
            "590/590 [==============================] - 10s 17ms/step - loss: 0.0432 - accuracy: 0.9871 - val_loss: 0.0397 - val_accuracy: 0.9893\n",
            "Epoch 14/100\n",
            "590/590 [==============================] - 10s 17ms/step - loss: 0.0357 - accuracy: 0.9899 - val_loss: 0.0314 - val_accuracy: 0.9912\n",
            "Epoch 15/100\n",
            "590/590 [==============================] - 10s 17ms/step - loss: 0.0372 - accuracy: 0.9895 - val_loss: 0.0326 - val_accuracy: 0.9926\n",
            "Epoch 16/100\n",
            "590/590 [==============================] - 10s 17ms/step - loss: 0.0367 - accuracy: 0.9894 - val_loss: 0.0290 - val_accuracy: 0.9917\n",
            "Epoch 17/100\n",
            "590/590 [==============================] - 10s 17ms/step - loss: 0.0390 - accuracy: 0.9890 - val_loss: 0.0371 - val_accuracy: 0.9912\n",
            "Epoch 18/100\n",
            "590/590 [==============================] - 10s 17ms/step - loss: 0.0333 - accuracy: 0.9904 - val_loss: 0.0265 - val_accuracy: 0.9924\n",
            "Epoch 19/100\n",
            "590/590 [==============================] - 10s 17ms/step - loss: 0.0361 - accuracy: 0.9893 - val_loss: 0.0314 - val_accuracy: 0.9917\n",
            "Epoch 20/100\n",
            "590/590 [==============================] - 10s 17ms/step - loss: 0.0322 - accuracy: 0.9907 - val_loss: 0.0347 - val_accuracy: 0.9933\n",
            "Epoch 21/100\n",
            "590/590 [==============================] - 10s 17ms/step - loss: 0.0305 - accuracy: 0.9907 - val_loss: 0.0396 - val_accuracy: 0.9902\n",
            "Epoch 22/100\n",
            "590/590 [==============================] - 10s 17ms/step - loss: 0.0322 - accuracy: 0.9909 - val_loss: 0.0298 - val_accuracy: 0.9919\n",
            "Epoch 23/100\n",
            "590/590 [==============================] - 10s 17ms/step - loss: 0.0311 - accuracy: 0.9908 - val_loss: 0.0280 - val_accuracy: 0.9919\n",
            "Epoch 24/100\n",
            "590/590 [==============================] - 10s 16ms/step - loss: 0.0319 - accuracy: 0.9905 - val_loss: 0.0366 - val_accuracy: 0.9929\n",
            "Epoch 25/100\n",
            "590/590 [==============================] - 10s 16ms/step - loss: 0.0289 - accuracy: 0.9912 - val_loss: 0.0325 - val_accuracy: 0.9931\n",
            "Epoch 26/100\n",
            "590/590 [==============================] - 10s 17ms/step - loss: 0.0311 - accuracy: 0.9913 - val_loss: 0.0221 - val_accuracy: 0.9938\n",
            "Epoch 27/100\n",
            "590/590 [==============================] - 10s 16ms/step - loss: 0.0296 - accuracy: 0.9915 - val_loss: 0.0263 - val_accuracy: 0.9933\n",
            "Epoch 28/100\n",
            "590/590 [==============================] - 10s 16ms/step - loss: 0.0277 - accuracy: 0.9915 - val_loss: 0.0237 - val_accuracy: 0.9936\n",
            "Epoch 29/100\n",
            "590/590 [==============================] - 10s 17ms/step - loss: 0.0260 - accuracy: 0.9921 - val_loss: 0.0241 - val_accuracy: 0.9936\n",
            "Epoch 30/100\n",
            "590/590 [==============================] - 10s 17ms/step - loss: 0.0277 - accuracy: 0.9918 - val_loss: 0.0169 - val_accuracy: 0.9938\n",
            "Epoch 31/100\n",
            "590/590 [==============================] - 10s 17ms/step - loss: 0.0276 - accuracy: 0.9924 - val_loss: 0.0245 - val_accuracy: 0.9940\n",
            "Epoch 32/100\n",
            "590/590 [==============================] - 10s 16ms/step - loss: 0.0269 - accuracy: 0.9927 - val_loss: 0.0505 - val_accuracy: 0.9874\n",
            "Epoch 33/100\n",
            "590/590 [==============================] - 10s 16ms/step - loss: 0.0261 - accuracy: 0.9927 - val_loss: 0.0256 - val_accuracy: 0.9933\n",
            "Epoch 34/100\n",
            "590/590 [==============================] - 10s 16ms/step - loss: 0.0234 - accuracy: 0.9934 - val_loss: 0.0274 - val_accuracy: 0.9929\n",
            "Epoch 35/100\n",
            "590/590 [==============================] - 10s 16ms/step - loss: 0.0257 - accuracy: 0.9931 - val_loss: 0.0308 - val_accuracy: 0.9924\n",
            "Epoch 36/100\n",
            "590/590 [==============================] - 10s 16ms/step - loss: 0.0249 - accuracy: 0.9929 - val_loss: 0.0305 - val_accuracy: 0.9936\n",
            "Epoch 37/100\n",
            "590/590 [==============================] - 10s 16ms/step - loss: 0.0242 - accuracy: 0.9932 - val_loss: 0.0298 - val_accuracy: 0.9919\n",
            "Epoch 38/100\n",
            "590/590 [==============================] - 10s 16ms/step - loss: 0.0254 - accuracy: 0.9926 - val_loss: 0.0252 - val_accuracy: 0.9924\n",
            "Epoch 39/100\n",
            "590/590 [==============================] - 10s 16ms/step - loss: 0.0250 - accuracy: 0.9935 - val_loss: 0.0260 - val_accuracy: 0.9924\n",
            "Epoch 40/100\n",
            "590/590 [==============================] - 10s 16ms/step - loss: 0.0228 - accuracy: 0.9937 - val_loss: 0.0294 - val_accuracy: 0.9943\n",
            "Epoch 41/100\n",
            "590/590 [==============================] - 10s 16ms/step - loss: 0.0230 - accuracy: 0.9931 - val_loss: 0.0516 - val_accuracy: 0.9888\n",
            "Epoch 42/100\n",
            "590/590 [==============================] - 10s 16ms/step - loss: 0.0250 - accuracy: 0.9937 - val_loss: 0.0375 - val_accuracy: 0.9900\n",
            "Epoch 43/100\n",
            "590/590 [==============================] - 10s 16ms/step - loss: 0.0240 - accuracy: 0.9931 - val_loss: 0.0261 - val_accuracy: 0.9933\n",
            "Epoch 44/100\n",
            "590/590 [==============================] - 10s 16ms/step - loss: 0.0226 - accuracy: 0.9931 - val_loss: 0.0325 - val_accuracy: 0.9926\n",
            "Epoch 45/100\n",
            "590/590 [==============================] - 10s 16ms/step - loss: 0.0213 - accuracy: 0.9938 - val_loss: 0.0345 - val_accuracy: 0.9926\n",
            "Epoch 46/100\n",
            "590/590 [==============================] - 10s 16ms/step - loss: 0.0240 - accuracy: 0.9935 - val_loss: 0.0386 - val_accuracy: 0.9910\n",
            "Epoch 47/100\n",
            "590/590 [==============================] - 10s 16ms/step - loss: 0.0236 - accuracy: 0.9935 - val_loss: 0.0333 - val_accuracy: 0.9924\n",
            "Epoch 48/100\n",
            "590/590 [==============================] - 10s 16ms/step - loss: 0.0221 - accuracy: 0.9936 - val_loss: 0.0358 - val_accuracy: 0.9924\n",
            "Epoch 49/100\n",
            "590/590 [==============================] - 10s 16ms/step - loss: 0.0232 - accuracy: 0.9934 - val_loss: 0.0313 - val_accuracy: 0.9931\n",
            "Epoch 50/100\n",
            "590/590 [==============================] - 10s 16ms/step - loss: 0.0250 - accuracy: 0.9929 - val_loss: 0.0354 - val_accuracy: 0.9914\n",
            "Epoch 51/100\n",
            "590/590 [==============================] - 9s 16ms/step - loss: 0.0223 - accuracy: 0.9937 - val_loss: 0.0358 - val_accuracy: 0.9936\n",
            "Epoch 52/100\n",
            "590/590 [==============================] - 9s 16ms/step - loss: 0.0225 - accuracy: 0.9933 - val_loss: 0.0257 - val_accuracy: 0.9943\n",
            "Epoch 53/100\n",
            "590/590 [==============================] - 9s 16ms/step - loss: 0.0201 - accuracy: 0.9942 - val_loss: 0.0273 - val_accuracy: 0.9940\n",
            "Epoch 54/100\n",
            "590/590 [==============================] - 10s 16ms/step - loss: 0.0197 - accuracy: 0.9938 - val_loss: 0.0297 - val_accuracy: 0.9945\n",
            "Epoch 55/100\n",
            "590/590 [==============================] - 10s 16ms/step - loss: 0.0228 - accuracy: 0.9939 - val_loss: 0.0299 - val_accuracy: 0.9938\n",
            "Epoch 56/100\n",
            "590/590 [==============================] - 10s 16ms/step - loss: 0.0236 - accuracy: 0.9933 - val_loss: 0.0391 - val_accuracy: 0.9900\n",
            "Epoch 57/100\n",
            "590/590 [==============================] - 9s 16ms/step - loss: 0.0196 - accuracy: 0.9947 - val_loss: 0.0225 - val_accuracy: 0.9943\n",
            "Epoch 58/100\n",
            "590/590 [==============================] - 10s 16ms/step - loss: 0.0192 - accuracy: 0.9941 - val_loss: 0.0377 - val_accuracy: 0.9907\n",
            "Epoch 59/100\n",
            "590/590 [==============================] - 10s 16ms/step - loss: 0.0210 - accuracy: 0.9943 - val_loss: 0.0296 - val_accuracy: 0.9926\n",
            "Epoch 60/100\n",
            "590/590 [==============================] - 9s 16ms/step - loss: 0.0199 - accuracy: 0.9943 - val_loss: 0.0374 - val_accuracy: 0.9924\n",
            "Epoch 61/100\n",
            "590/590 [==============================] - 9s 16ms/step - loss: 0.0216 - accuracy: 0.9943 - val_loss: 0.0262 - val_accuracy: 0.9929\n",
            "Epoch 62/100\n",
            "590/590 [==============================] - 10s 17ms/step - loss: 0.0182 - accuracy: 0.9950 - val_loss: 0.0235 - val_accuracy: 0.9943\n",
            "Epoch 63/100\n",
            "590/590 [==============================] - 11s 18ms/step - loss: 0.0204 - accuracy: 0.9944 - val_loss: 0.0277 - val_accuracy: 0.9948\n",
            "Epoch 64/100\n",
            "590/590 [==============================] - 10s 17ms/step - loss: 0.0220 - accuracy: 0.9941 - val_loss: 0.0241 - val_accuracy: 0.9940\n",
            "Epoch 65/100\n",
            "590/590 [==============================] - 10s 17ms/step - loss: 0.0206 - accuracy: 0.9941 - val_loss: 0.0237 - val_accuracy: 0.9952\n",
            "Epoch 66/100\n",
            "590/590 [==============================] - 10s 17ms/step - loss: 0.0220 - accuracy: 0.9942 - val_loss: 0.0210 - val_accuracy: 0.9950\n",
            "Epoch 67/100\n",
            "590/590 [==============================] - 10s 17ms/step - loss: 0.0221 - accuracy: 0.9944 - val_loss: 0.0226 - val_accuracy: 0.9933\n",
            "Epoch 68/100\n",
            "590/590 [==============================] - 10s 16ms/step - loss: 0.0167 - accuracy: 0.9949 - val_loss: 0.0286 - val_accuracy: 0.9936\n",
            "Epoch 69/100\n",
            "590/590 [==============================] - 10s 16ms/step - loss: 0.0179 - accuracy: 0.9948 - val_loss: 0.0222 - val_accuracy: 0.9933\n",
            "Epoch 70/100\n",
            "590/590 [==============================] - 10s 16ms/step - loss: 0.0221 - accuracy: 0.9942 - val_loss: 0.0448 - val_accuracy: 0.9912\n",
            "Epoch 71/100\n",
            "590/590 [==============================] - 10s 17ms/step - loss: 0.0216 - accuracy: 0.9940 - val_loss: 0.0307 - val_accuracy: 0.9931\n",
            "Epoch 72/100\n",
            "590/590 [==============================] - 10s 16ms/step - loss: 0.0165 - accuracy: 0.9958 - val_loss: 0.0201 - val_accuracy: 0.9945\n",
            "Epoch 73/100\n",
            "590/590 [==============================] - 10s 16ms/step - loss: 0.0185 - accuracy: 0.9945 - val_loss: 0.0426 - val_accuracy: 0.9924\n",
            "Epoch 74/100\n",
            "590/590 [==============================] - 10s 16ms/step - loss: 0.0235 - accuracy: 0.9939 - val_loss: 0.0335 - val_accuracy: 0.9926\n",
            "Epoch 75/100\n",
            "590/590 [==============================] - 10s 16ms/step - loss: 0.0185 - accuracy: 0.9950 - val_loss: 0.0273 - val_accuracy: 0.9924\n",
            "Epoch 76/100\n",
            "590/590 [==============================] - 10s 17ms/step - loss: 0.0175 - accuracy: 0.9949 - val_loss: 0.0438 - val_accuracy: 0.9919\n",
            "Epoch 77/100\n",
            "590/590 [==============================] - 10s 16ms/step - loss: 0.0207 - accuracy: 0.9946 - val_loss: 0.0274 - val_accuracy: 0.9943\n",
            "Epoch 78/100\n",
            "590/590 [==============================] - 10s 16ms/step - loss: 0.0184 - accuracy: 0.9947 - val_loss: 0.0333 - val_accuracy: 0.9931\n",
            "Epoch 79/100\n",
            "590/590 [==============================] - 10s 17ms/step - loss: 0.0202 - accuracy: 0.9948 - val_loss: 0.0392 - val_accuracy: 0.9931\n",
            "Epoch 80/100\n",
            "590/590 [==============================] - 10s 16ms/step - loss: 0.0188 - accuracy: 0.9950 - val_loss: 0.0246 - val_accuracy: 0.9933\n",
            "Epoch 81/100\n",
            "590/590 [==============================] - 10s 16ms/step - loss: 0.0201 - accuracy: 0.9949 - val_loss: 0.0321 - val_accuracy: 0.9919\n",
            "Epoch 82/100\n",
            "590/590 [==============================] - 10s 16ms/step - loss: 0.0165 - accuracy: 0.9955 - val_loss: 0.0366 - val_accuracy: 0.9929\n",
            "Epoch 83/100\n",
            "590/590 [==============================] - 10s 16ms/step - loss: 0.0192 - accuracy: 0.9945 - val_loss: 0.0266 - val_accuracy: 0.9950\n",
            "Epoch 84/100\n",
            "590/590 [==============================] - 10s 16ms/step - loss: 0.0185 - accuracy: 0.9952 - val_loss: 0.0356 - val_accuracy: 0.9938\n",
            "Epoch 85/100\n",
            "590/590 [==============================] - 10s 16ms/step - loss: 0.0194 - accuracy: 0.9945 - val_loss: 0.0325 - val_accuracy: 0.9938\n",
            "Epoch 86/100\n",
            "590/590 [==============================] - 10s 16ms/step - loss: 0.0172 - accuracy: 0.9952 - val_loss: 0.0465 - val_accuracy: 0.9902\n",
            "Epoch 87/100\n",
            "590/590 [==============================] - 10s 16ms/step - loss: 0.0200 - accuracy: 0.9950 - val_loss: 0.0266 - val_accuracy: 0.9943\n",
            "Epoch 88/100\n",
            "590/590 [==============================] - 10s 16ms/step - loss: 0.0201 - accuracy: 0.9946 - val_loss: 0.0367 - val_accuracy: 0.9924\n",
            "Epoch 89/100\n",
            "590/590 [==============================] - 10s 16ms/step - loss: 0.0163 - accuracy: 0.9952 - val_loss: 0.0246 - val_accuracy: 0.9929\n",
            "Epoch 90/100\n",
            "590/590 [==============================] - 10s 16ms/step - loss: 0.0195 - accuracy: 0.9947 - val_loss: 0.0272 - val_accuracy: 0.9940\n",
            "Epoch 91/100\n",
            "590/590 [==============================] - 10s 16ms/step - loss: 0.0152 - accuracy: 0.9959 - val_loss: 0.0362 - val_accuracy: 0.9933\n",
            "Epoch 92/100\n",
            "590/590 [==============================] - 10s 16ms/step - loss: 0.0175 - accuracy: 0.9950 - val_loss: 0.0429 - val_accuracy: 0.9929\n",
            "Epoch 93/100\n",
            "590/590 [==============================] - 10s 16ms/step - loss: 0.0196 - accuracy: 0.9945 - val_loss: 0.0395 - val_accuracy: 0.9914\n",
            "Epoch 94/100\n",
            "590/590 [==============================] - 10s 16ms/step - loss: 0.0199 - accuracy: 0.9943 - val_loss: 0.0373 - val_accuracy: 0.9938\n",
            "Epoch 95/100\n",
            "590/590 [==============================] - 10s 17ms/step - loss: 0.0178 - accuracy: 0.9954 - val_loss: 0.0301 - val_accuracy: 0.9926\n",
            "Epoch 96/100\n",
            "590/590 [==============================] - 10s 17ms/step - loss: 0.0183 - accuracy: 0.9950 - val_loss: 0.0285 - val_accuracy: 0.9933\n",
            "Epoch 97/100\n",
            "590/590 [==============================] - 10s 16ms/step - loss: 0.0160 - accuracy: 0.9956 - val_loss: 0.0230 - val_accuracy: 0.9936\n",
            "Epoch 98/100\n",
            "590/590 [==============================] - 10s 16ms/step - loss: 0.0166 - accuracy: 0.9952 - val_loss: 0.0324 - val_accuracy: 0.9926\n",
            "Epoch 99/100\n",
            "590/590 [==============================] - 10s 16ms/step - loss: 0.0155 - accuracy: 0.9961 - val_loss: 0.0336 - val_accuracy: 0.9945\n",
            "Epoch 100/100\n",
            "590/590 [==============================] - 10s 16ms/step - loss: 0.0162 - accuracy: 0.9954 - val_loss: 0.0467 - val_accuracy: 0.9902\n"
          ],
          "name": "stdout"
        }
      ]
    },
    {
      "cell_type": "markdown",
      "metadata": {
        "id": "MvMleeFmK-G6",
        "colab_type": "text"
      },
      "source": [
        "### Evaluating the Model"
      ]
    },
    {
      "cell_type": "code",
      "metadata": {
        "id": "OFMbuwsKPl31",
        "colab_type": "code",
        "colab": {
          "base_uri": "https://localhost:8080/",
          "height": 445
        },
        "outputId": "59839b14-588d-4316-e25d-aa8d7b67d341"
      },
      "source": [
        "plt.figure(figsize=(15,7))\n",
        "ax1 = plt.subplot(1,2,1)\n",
        "ax1.plot(history.history['loss'],c='b',label='Loss')\n",
        "ax1.plot(history.history['val_loss'],c='r',label='Val_loss')\n",
        "ax1.legend()\n",
        "ax2 = plt.subplot(1,2,2)\n",
        "ax2.plot(history.history['accuracy'],c='b',label='accuracy')\n",
        "ax2.plot(history.history['val_accuracy'],c='r',label='Val_accuracy')\n",
        "ax2.legend()"
      ],
      "execution_count": 34,
      "outputs": [
        {
          "output_type": "execute_result",
          "data": {
            "text/plain": [
              "<matplotlib.legend.Legend at 0x7fa5ca453dd8>"
            ]
          },
          "metadata": {
            "tags": []
          },
          "execution_count": 34
        },
        {
          "output_type": "display_data",
          "data": {
            "image/png": "[encoded data removed]",
            "text/plain": [
              "<Figure size 1080x504 with 2 Axes>"
            ]
          },
          "metadata": {
            "tags": [],
            "needs_background": "light"
          }
        }
      ]
    },
    {
      "cell_type": "markdown",
      "metadata": {
        "id": "cTvaGr-pRSzl",
        "colab_type": "text"
      },
      "source": [
        "### Try with Adding DropOut layers"
      ]
    },
    {
      "cell_type": "code",
      "metadata": {
        "id": "jXlXs7BZRvMs",
        "colab_type": "code",
        "colab": {
          "base_uri": "https://localhost:8080/",
          "height": 1000
        },
        "outputId": "3715e015-20b0-4b14-88af-ddca083a8f12"
      },
      "source": [
        "model = tf.keras.Sequential(layers=[tf.keras.layers.Conv2D(16,(3,3),input_shape=(28,28,1),padding='same',activation='relu'),\n",
        "                                    tf.keras.layers.MaxPool2D((2,2)),\n",
        "                                    tf.keras.layers.Dropout(0.2),\n",
        "                                    tf.keras.layers.Conv2D(32,(3,3),padding='same',activation='relu'),\n",
        "                                    tf.keras.layers.Conv2D(32,(3,3),padding='same',activation='relu'),\n",
        "                                    tf.keras.layers.MaxPool2D((2,2)),\n",
        "                                    tf.keras.layers.Dropout(0.2),\n",
        "                                    tf.keras.layers.Conv2D(64,(3,3),padding='same',activation='relu'),\n",
        "                                    tf.keras.layers.Conv2D(64,(3,3),padding='same',activation='relu'),\n",
        "                                    tf.keras.layers.MaxPool2D((2,2)),\n",
        "                                    tf.keras.layers.Dropout(0.2),\n",
        "                                    tf.keras.layers.Flatten(),\n",
        "                                    tf.keras.layers.Dense(512,activation='relu'),\n",
        "                                    tf.keras.layers.Dropout(0.2),\n",
        "                                    tf.keras.layers.Dense(256,activation='relu'),\n",
        "                                    tf.keras.layers.Dropout(0.2),\n",
        "                                    tf.keras.layers.Dense(128,activation='relu'),\n",
        "                                    tf.keras.layers.Dropout(0.2),\n",
        "                                    tf.keras.layers.Dense(10,activation='softmax')\n",
        "                                    ])\n",
        "model.compile(optimizer=tf.keras.optimizers.Adam(),loss='categorical_crossentropy',metrics=['accuracy'])\n",
        "history = model.fit_generator(train_generator,steps_per_epoch=X_train.shape[0]//64,epochs=50,validation_data=(X_val,Y_val))\n",
        "plt.figure(figsize=(15,7))\n",
        "ax1 = plt.subplot(1,2,1)\n",
        "ax1.plot(history.history['loss'],c='b',label='Loss')\n",
        "ax1.plot(history.history['val_loss'],c='r',label='Val_loss')\n",
        "ax1.legend()\n",
        "ax2 = plt.subplot(1,2,2)\n",
        "ax2.plot(history.history['accuracy'],c='b',label='accuracy')\n",
        "ax2.plot(history.history['val_accuracy'],c='r',label='Val_accuracy')\n",
        "ax2.legend()"
      ],
      "execution_count": 35,
      "outputs": [
        {
          "output_type": "stream",
          "text": [
            "Epoch 1/50\n",
            "590/590 [==============================] - 11s 18ms/step - loss: 0.7753 - accuracy: 0.7331 - val_loss: 0.1353 - val_accuracy: 0.9614\n",
            "Epoch 2/50\n",
            "590/590 [==============================] - 10s 17ms/step - loss: 0.2071 - accuracy: 0.9407 - val_loss: 0.0594 - val_accuracy: 0.9826\n",
            "Epoch 3/50\n",
            "590/590 [==============================] - 10s 17ms/step - loss: 0.1509 - accuracy: 0.9557 - val_loss: 0.0588 - val_accuracy: 0.9852\n",
            "Epoch 4/50\n",
            "590/590 [==============================] - 11s 18ms/step - loss: 0.1257 - accuracy: 0.9643 - val_loss: 0.0435 - val_accuracy: 0.9874\n",
            "Epoch 5/50\n",
            "590/590 [==============================] - 10s 18ms/step - loss: 0.1069 - accuracy: 0.9697 - val_loss: 0.0365 - val_accuracy: 0.9898\n",
            "Epoch 6/50\n",
            "590/590 [==============================] - 10s 17ms/step - loss: 0.0992 - accuracy: 0.9718 - val_loss: 0.0408 - val_accuracy: 0.9888\n",
            "Epoch 7/50\n",
            "590/590 [==============================] - 10s 17ms/step - loss: 0.0893 - accuracy: 0.9744 - val_loss: 0.0436 - val_accuracy: 0.9879\n",
            "Epoch 8/50\n",
            "590/590 [==============================] - 10s 18ms/step - loss: 0.0846 - accuracy: 0.9760 - val_loss: 0.0370 - val_accuracy: 0.9895\n",
            "Epoch 9/50\n",
            "590/590 [==============================] - 10s 17ms/step - loss: 0.0801 - accuracy: 0.9778 - val_loss: 0.0419 - val_accuracy: 0.9890\n",
            "Epoch 10/50\n",
            "590/590 [==============================] - 10s 17ms/step - loss: 0.0756 - accuracy: 0.9781 - val_loss: 0.0357 - val_accuracy: 0.9902\n",
            "Epoch 11/50\n",
            "590/590 [==============================] - 10s 17ms/step - loss: 0.0730 - accuracy: 0.9793 - val_loss: 0.0287 - val_accuracy: 0.9936\n",
            "Epoch 12/50\n",
            "590/590 [==============================] - 10s 17ms/step - loss: 0.0691 - accuracy: 0.9806 - val_loss: 0.0325 - val_accuracy: 0.9907\n",
            "Epoch 13/50\n",
            "590/590 [==============================] - 10s 17ms/step - loss: 0.0699 - accuracy: 0.9810 - val_loss: 0.0313 - val_accuracy: 0.9905\n",
            "Epoch 14/50\n",
            "590/590 [==============================] - 10s 17ms/step - loss: 0.0674 - accuracy: 0.9812 - val_loss: 0.0347 - val_accuracy: 0.9912\n",
            "Epoch 15/50\n",
            "590/590 [==============================] - 10s 17ms/step - loss: 0.0642 - accuracy: 0.9827 - val_loss: 0.0299 - val_accuracy: 0.9912\n",
            "Epoch 16/50\n",
            "590/590 [==============================] - 10s 18ms/step - loss: 0.0593 - accuracy: 0.9831 - val_loss: 0.0238 - val_accuracy: 0.9924\n",
            "Epoch 17/50\n",
            "590/590 [==============================] - 10s 17ms/step - loss: 0.0609 - accuracy: 0.9834 - val_loss: 0.0248 - val_accuracy: 0.9926\n",
            "Epoch 18/50\n",
            "590/590 [==============================] - 10s 17ms/step - loss: 0.0608 - accuracy: 0.9825 - val_loss: 0.0405 - val_accuracy: 0.9898\n",
            "Epoch 19/50\n",
            "590/590 [==============================] - 10s 17ms/step - loss: 0.0618 - accuracy: 0.9832 - val_loss: 0.0364 - val_accuracy: 0.9907\n",
            "Epoch 20/50\n",
            "590/590 [==============================] - 10s 18ms/step - loss: 0.0601 - accuracy: 0.9833 - val_loss: 0.0283 - val_accuracy: 0.9921\n",
            "Epoch 21/50\n",
            "590/590 [==============================] - 10s 18ms/step - loss: 0.0574 - accuracy: 0.9842 - val_loss: 0.0335 - val_accuracy: 0.9914\n",
            "Epoch 22/50\n",
            "590/590 [==============================] - 10s 17ms/step - loss: 0.0538 - accuracy: 0.9849 - val_loss: 0.0357 - val_accuracy: 0.9910\n",
            "Epoch 23/50\n",
            "590/590 [==============================] - 10s 17ms/step - loss: 0.0591 - accuracy: 0.9839 - val_loss: 0.0274 - val_accuracy: 0.9938\n",
            "Epoch 24/50\n",
            "590/590 [==============================] - 10s 18ms/step - loss: 0.0550 - accuracy: 0.9853 - val_loss: 0.0330 - val_accuracy: 0.9907\n",
            "Epoch 25/50\n",
            "590/590 [==============================] - 10s 17ms/step - loss: 0.0518 - accuracy: 0.9859 - val_loss: 0.0347 - val_accuracy: 0.9924\n",
            "Epoch 26/50\n",
            "590/590 [==============================] - 10s 18ms/step - loss: 0.0538 - accuracy: 0.9854 - val_loss: 0.0264 - val_accuracy: 0.9926\n",
            "Epoch 27/50\n",
            "590/590 [==============================] - 10s 17ms/step - loss: 0.0542 - accuracy: 0.9854 - val_loss: 0.0250 - val_accuracy: 0.9931\n",
            "Epoch 28/50\n",
            "590/590 [==============================] - 10s 17ms/step - loss: 0.0506 - accuracy: 0.9862 - val_loss: 0.0421 - val_accuracy: 0.9886\n",
            "Epoch 29/50\n",
            "590/590 [==============================] - 10s 18ms/step - loss: 0.0493 - accuracy: 0.9861 - val_loss: 0.0307 - val_accuracy: 0.9912\n",
            "Epoch 30/50\n",
            "590/590 [==============================] - 10s 18ms/step - loss: 0.0491 - accuracy: 0.9861 - val_loss: 0.0276 - val_accuracy: 0.9929\n",
            "Epoch 31/50\n",
            "590/590 [==============================] - 10s 18ms/step - loss: 0.0485 - accuracy: 0.9873 - val_loss: 0.0330 - val_accuracy: 0.9917\n",
            "Epoch 32/50\n",
            "590/590 [==============================] - 10s 18ms/step - loss: 0.0496 - accuracy: 0.9855 - val_loss: 0.0291 - val_accuracy: 0.9910\n",
            "Epoch 33/50\n",
            "590/590 [==============================] - 10s 17ms/step - loss: 0.0538 - accuracy: 0.9860 - val_loss: 0.0273 - val_accuracy: 0.9919\n",
            "Epoch 34/50\n",
            "590/590 [==============================] - 11s 18ms/step - loss: 0.0534 - accuracy: 0.9860 - val_loss: 0.0243 - val_accuracy: 0.9931\n",
            "Epoch 35/50\n",
            "590/590 [==============================] - 10s 18ms/step - loss: 0.0503 - accuracy: 0.9866 - val_loss: 0.0320 - val_accuracy: 0.9917\n",
            "Epoch 36/50\n",
            "590/590 [==============================] - 10s 18ms/step - loss: 0.0516 - accuracy: 0.9858 - val_loss: 0.0298 - val_accuracy: 0.9905\n",
            "Epoch 37/50\n",
            "590/590 [==============================] - 10s 17ms/step - loss: 0.0470 - accuracy: 0.9871 - val_loss: 0.0272 - val_accuracy: 0.9912\n",
            "Epoch 38/50\n",
            "590/590 [==============================] - 10s 18ms/step - loss: 0.0459 - accuracy: 0.9877 - val_loss: 0.0256 - val_accuracy: 0.9912\n",
            "Epoch 39/50\n",
            "590/590 [==============================] - 10s 18ms/step - loss: 0.0468 - accuracy: 0.9877 - val_loss: 0.0292 - val_accuracy: 0.9917\n",
            "Epoch 40/50\n",
            "590/590 [==============================] - 10s 17ms/step - loss: 0.0473 - accuracy: 0.9874 - val_loss: 0.0261 - val_accuracy: 0.9921\n",
            "Epoch 41/50\n",
            "590/590 [==============================] - 10s 18ms/step - loss: 0.0512 - accuracy: 0.9866 - val_loss: 0.0294 - val_accuracy: 0.9919\n",
            "Epoch 42/50\n",
            "590/590 [==============================] - 10s 17ms/step - loss: 0.0471 - accuracy: 0.9870 - val_loss: 0.0303 - val_accuracy: 0.9931\n",
            "Epoch 43/50\n",
            "590/590 [==============================] - 10s 17ms/step - loss: 0.0463 - accuracy: 0.9876 - val_loss: 0.0320 - val_accuracy: 0.9921\n",
            "Epoch 44/50\n",
            "590/590 [==============================] - 10s 18ms/step - loss: 0.0509 - accuracy: 0.9864 - val_loss: 0.0354 - val_accuracy: 0.9907\n",
            "Epoch 45/50\n",
            "590/590 [==============================] - 10s 17ms/step - loss: 0.0462 - accuracy: 0.9881 - val_loss: 0.0315 - val_accuracy: 0.9926\n",
            "Epoch 46/50\n",
            "590/590 [==============================] - 10s 17ms/step - loss: 0.0489 - accuracy: 0.9870 - val_loss: 0.0315 - val_accuracy: 0.9912\n",
            "Epoch 47/50\n",
            "590/590 [==============================] - 10s 18ms/step - loss: 0.0455 - accuracy: 0.9877 - val_loss: 0.0263 - val_accuracy: 0.9940\n",
            "Epoch 48/50\n",
            "590/590 [==============================] - 10s 17ms/step - loss: 0.0484 - accuracy: 0.9879 - val_loss: 0.0239 - val_accuracy: 0.9936\n",
            "Epoch 49/50\n",
            "590/590 [==============================] - 10s 17ms/step - loss: 0.0405 - accuracy: 0.9898 - val_loss: 0.0312 - val_accuracy: 0.9926\n",
            "Epoch 50/50\n",
            "590/590 [==============================] - 10s 17ms/step - loss: 0.0458 - accuracy: 0.9879 - val_loss: 0.0242 - val_accuracy: 0.9929\n"
          ],
          "name": "stdout"
        },
        {
          "output_type": "execute_result",
          "data": {
            "text/plain": [
              "<matplotlib.legend.Legend at 0x7fa5ae22def0>"
            ]
          },
          "metadata": {
            "tags": []
          },
          "execution_count": 35
        },
        {
          "output_type": "display_data",
          "data": {
            "image/png": "[encoded data removed]",
            "text/plain": [
              "<Figure size 1080x504 with 2 Axes>"
            ]
          },
          "metadata": {
            "tags": [],
            "needs_background": "light"
          }
        }
      ]
    },
    {
      "cell_type": "markdown",
      "metadata": {
        "id": "sw8Fk0GUVOVz",
        "colab_type": "text"
      },
      "source": [
        "# Confusion Matrix"
      ]
    },
    {
      "cell_type": "code",
      "metadata": {
        "id": "yoPTJoNOSlIM",
        "colab_type": "code",
        "colab": {
          "base_uri": "https://localhost:8080/",
          "height": 34
        },
        "outputId": "18a600bc-59aa-487e-c4e4-96c1d58bd2cc"
      },
      "source": [
        "Y_pred = model.predict(X_val)\n",
        "Y_pred_class = np.argmax(Y_pred,axis=1)\n",
        "Y_true = np.argmax(Y_val,axis=1)\n",
        "Y_pred_class[:10]"
      ],
      "execution_count": 37,
      "outputs": [
        {
          "output_type": "execute_result",
          "data": {
            "text/plain": [
              "array([8, 1, 9, 9, 8, 6, 2, 2, 7, 1])"
            ]
          },
          "metadata": {
            "tags": []
          },
          "execution_count": 37
        }
      ]
    },
    {
      "cell_type": "code",
      "metadata": {
        "id": "DstdMbA0VK-B",
        "colab_type": "code",
        "colab": {
          "base_uri": "https://localhost:8080/",
          "height": 70
        },
        "outputId": "d32cafbc-0e3d-48c8-dfc4-62546c79daaf"
      },
      "source": [
        "import seaborn as sns"
      ],
      "execution_count": 38,
      "outputs": [
        {
          "output_type": "stream",
          "text": [
            "/usr/local/lib/python3.6/dist-packages/statsmodels/tools/_testing.py:19: FutureWarning: pandas.util.testing is deprecated. Use the functions in the public API at pandas.testing instead.\n",
            "  import pandas.util.testing as tm\n"
          ],
          "name": "stderr"
        }
      ]
    },
    {
      "cell_type": "code",
      "metadata": {
        "id": "kM760DT-VdTD",
        "colab_type": "code",
        "colab": {
          "base_uri": "https://localhost:8080/",
          "height": 283
        },
        "outputId": "85300455-429b-4317-ba4d-7f0353963a3c"
      },
      "source": [
        "sns.heatmap(pd.crosstab(Y_pred_class,Y_true),linewidths=0.2,cmap=\"YlGnBu\",annot=True,fmt='.0f');"
      ],
      "execution_count": 44,
      "outputs": [
        {
          "output_type": "display_data",
          "data": {
            "image/png": "[encoded data removed]",
            "text/plain": [
              "<Figure size 432x288 with 2 Axes>"
            ]
          },
          "metadata": {
            "tags": [],
            "needs_background": "light"
          }
        }
      ]
    },
    {
      "cell_type": "markdown",
      "metadata": {
        "id": "m_WY66VGWSoY",
        "colab_type": "text"
      },
      "source": [
        "# Predicting Results on Test Data"
      ]
    },
    {
      "cell_type": "code",
      "metadata": {
        "id": "Vq-xOC3nXTaW",
        "colab_type": "code",
        "colab": {}
      },
      "source": [
        "results = model.predict(test)"
      ],
      "execution_count": 0,
      "outputs": []
    },
    {
      "cell_type": "code",
      "metadata": {
        "id": "ScyN-7a3XjYK",
        "colab_type": "code",
        "colab": {}
      },
      "source": [
        "results = np.argmax(results,axis=1)"
      ],
      "execution_count": 0,
      "outputs": []
    },
    {
      "cell_type": "code",
      "metadata": {
        "id": "971k66J9XsQA",
        "colab_type": "code",
        "colab": {
          "base_uri": "https://localhost:8080/",
          "height": 34
        },
        "outputId": "cf92e673-16e4-49df-b337-264473053d6d"
      },
      "source": [
        "results[:10]"
      ],
      "execution_count": 47,
      "outputs": [
        {
          "output_type": "execute_result",
          "data": {
            "text/plain": [
              "array([2, 0, 9, 0, 3, 7, 0, 3, 0, 3])"
            ]
          },
          "metadata": {
            "tags": []
          },
          "execution_count": 47
        }
      ]
    },
    {
      "cell_type": "code",
      "metadata": {
        "id": "ljEPPZGVXt9X",
        "colab_type": "code",
        "colab": {
          "base_uri": "https://localhost:8080/",
          "height": 195
        },
        "outputId": "fc302a8d-413e-4632-8c3f-b91e8d6fc661"
      },
      "source": [
        "sample_sub = pd.read_csv('/tmp/data/sample_submission.csv')\n",
        "sample_sub.head()"
      ],
      "execution_count": 48,
      "outputs": [
        {
          "output_type": "execute_result",
          "data": {
            "text/html": [
              "<div>\n",
              "<style scoped>\n",
              "    .dataframe tbody tr th:only-of-type {\n",
              "        vertical-align: middle;\n",
              "    }\n",
              "\n",
              "    .dataframe tbody tr th {\n",
              "        vertical-align: top;\n",
              "    }\n",
              "\n",
              "    .dataframe thead th {\n",
              "        text-align: right;\n",
              "    }\n",
              "</style>\n",
              "<table border=\"1\" class=\"dataframe\">\n",
              "  <thead>\n",
              "    <tr style=\"text-align: right;\">\n",
              "      <th></th>\n",
              "      <th>ImageId</th>\n",
              "      <th>Label</th>\n",
              "    </tr>\n",
              "  </thead>\n",
              "  <tbody>\n",
              "    <tr>\n",
              "      <th>0</th>\n",
              "      <td>1</td>\n",
              "      <td>0</td>\n",
              "    </tr>\n",
              "    <tr>\n",
              "      <th>1</th>\n",
              "      <td>2</td>\n",
              "      <td>0</td>\n",
              "    </tr>\n",
              "    <tr>\n",
              "      <th>2</th>\n",
              "      <td>3</td>\n",
              "      <td>0</td>\n",
              "    </tr>\n",
              "    <tr>\n",
              "      <th>3</th>\n",
              "      <td>4</td>\n",
              "      <td>0</td>\n",
              "    </tr>\n",
              "    <tr>\n",
              "      <th>4</th>\n",
              "      <td>5</td>\n",
              "      <td>0</td>\n",
              "    </tr>\n",
              "  </tbody>\n",
              "</table>\n",
              "</div>"
            ],
            "text/plain": [
              "   ImageId  Label\n",
              "0        1      0\n",
              "1        2      0\n",
              "2        3      0\n",
              "3        4      0\n",
              "4        5      0"
            ]
          },
          "metadata": {
            "tags": []
          },
          "execution_count": 48
        }
      ]
    },
    {
      "cell_type": "code",
      "metadata": {
        "id": "ukVEiZgnYuJ-",
        "colab_type": "code",
        "colab": {
          "base_uri": "https://localhost:8080/",
          "height": 34
        },
        "outputId": "5636f934-5909-4691-d897-101349f6d335"
      },
      "source": [
        "sample_sub.shape"
      ],
      "execution_count": 50,
      "outputs": [
        {
          "output_type": "execute_result",
          "data": {
            "text/plain": [
              "(28000, 2)"
            ]
          },
          "metadata": {
            "tags": []
          },
          "execution_count": 50
        }
      ]
    },
    {
      "cell_type": "code",
      "metadata": {
        "id": "6zOUbQi7YJ5r",
        "colab_type": "code",
        "colab": {}
      },
      "source": [
        "sub_file = pd.Series(results,name='Label')"
      ],
      "execution_count": 0,
      "outputs": []
    },
    {
      "cell_type": "code",
      "metadata": {
        "id": "q6iAzVfiYiJq",
        "colab_type": "code",
        "colab": {}
      },
      "source": [
        "sub_file = pd.concat([pd.Series(range(1,28001),name = 'ImageId'),sub_file],axis=1)"
      ],
      "execution_count": 0,
      "outputs": []
    },
    {
      "cell_type": "code",
      "metadata": {
        "id": "CN_vvOnPZSeX",
        "colab_type": "code",
        "colab": {
          "base_uri": "https://localhost:8080/",
          "height": 195
        },
        "outputId": "f9164d8b-6d15-41bf-851e-6e8f7f44ffa5"
      },
      "source": [
        "sub_file.head()"
      ],
      "execution_count": 52,
      "outputs": [
        {
          "output_type": "execute_result",
          "data": {
            "text/html": [
              "<div>\n",
              "<style scoped>\n",
              "    .dataframe tbody tr th:only-of-type {\n",
              "        vertical-align: middle;\n",
              "    }\n",
              "\n",
              "    .dataframe tbody tr th {\n",
              "        vertical-align: top;\n",
              "    }\n",
              "\n",
              "    .dataframe thead th {\n",
              "        text-align: right;\n",
              "    }\n",
              "</style>\n",
              "<table border=\"1\" class=\"dataframe\">\n",
              "  <thead>\n",
              "    <tr style=\"text-align: right;\">\n",
              "      <th></th>\n",
              "      <th>ImageId</th>\n",
              "      <th>Label</th>\n",
              "    </tr>\n",
              "  </thead>\n",
              "  <tbody>\n",
              "    <tr>\n",
              "      <th>0</th>\n",
              "      <td>1</td>\n",
              "      <td>2</td>\n",
              "    </tr>\n",
              "    <tr>\n",
              "      <th>1</th>\n",
              "      <td>2</td>\n",
              "      <td>0</td>\n",
              "    </tr>\n",
              "    <tr>\n",
              "      <th>2</th>\n",
              "      <td>3</td>\n",
              "      <td>9</td>\n",
              "    </tr>\n",
              "    <tr>\n",
              "      <th>3</th>\n",
              "      <td>4</td>\n",
              "      <td>0</td>\n",
              "    </tr>\n",
              "    <tr>\n",
              "      <th>4</th>\n",
              "      <td>5</td>\n",
              "      <td>3</td>\n",
              "    </tr>\n",
              "  </tbody>\n",
              "</table>\n",
              "</div>"
            ],
            "text/plain": [
              "   ImageId  Label\n",
              "0        1      2\n",
              "1        2      0\n",
              "2        3      9\n",
              "3        4      0\n",
              "4        5      3"
            ]
          },
          "metadata": {
            "tags": []
          },
          "execution_count": 52
        }
      ]
    },
    {
      "cell_type": "code",
      "metadata": {
        "id": "oI2d4-a0ZUoe",
        "colab_type": "code",
        "colab": {}
      },
      "source": [
        "sub_file.to_csv('/content/DigitRecognizer.csv',index=False)"
      ],
      "execution_count": 0,
      "outputs": []
    },
    {
      "cell_type": "markdown",
      "metadata": {
        "id": "6cI1WkgNaLEa",
        "colab_type": "text"
      },
      "source": [
        "# Predicting Own Data"
      ]
    },
    {
      "cell_type": "code",
      "metadata": {
        "id": "h9lF266_bZB5",
        "colab_type": "code",
        "colab": {
          "resources": {
            "http://localhost:8080/nbextensions/google.colab/files.js": {
              "data": "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",
              "ok": true,
              "headers": [
                [
                  "content-type",
                  "application/javascript"
                ]
              ],
              "status": 200,
              "status_text": ""
            }
          },
          "base_uri": "https://localhost:8080/",
          "height": 91
        },
        "outputId": "ebe1b867-0cc9-4df7-e9fc-720e43da044f"
      },
      "source": [
        "from google.colab import files\n",
        "import os\n",
        "from tensorflow.keras.preprocessing.image import load_img,img_to_array\n",
        "file = files.upload()\n",
        "for fn in file.keys():\n",
        "  file_path = os.path.join('/content',fn)\n",
        "  img = load_img(file_path,color_mode='grayscale',target_size=(28,28))\n",
        "  arr = img_to_array(img)\n",
        "  arr = np.expand_dims(arr,axis=0)\n",
        "  pred = model.predict(arr)\n",
        "  print(\"Number in Image is : \",np.argmax(pred,axis=1)[0])\n"
      ],
      "execution_count": 60,
      "outputs": [
        {
          "output_type": "display_data",
          "data": {
            "text/html": [
              "\n",
              "     <input type=\"file\" id=\"files-7282b61a-0740-4b19-a348-c9091da83ebf\" name=\"files[]\" multiple disabled />\n",
              "     <output id=\"result-7282b61a-0740-4b19-a348-c9091da83ebf\">\n",
              "      Upload widget is only available when the cell has been executed in the\n",
              "      current browser session. Please rerun this cell to enable.\n",
              "      </output>\n",
              "      <script src=\"/nbextensions/google.colab/files.js\"></script> "
            ],
            "text/plain": [
              "<IPython.core.display.HTML object>"
            ]
          },
          "metadata": {
            "tags": []
          }
        },
        {
          "output_type": "stream",
          "text": [
            "Saving 6.png to 6 (2).png\n",
            "Number in Image is :  6\n"
          ],
          "name": "stdout"
        }
      ]
    },
    {
      "cell_type": "code",
      "metadata": {
        "id": "zQQWcRxqcVUT",
        "colab_type": "code",
        "colab": {}
      },
      "source": [
        ""
      ],
      "execution_count": 0,
      "outputs": []
    }
  ]
}